{
 "cells": [
  {
   "cell_type": "markdown",
   "id": "2524ea05",
   "metadata": {},
   "source": [
    "Module importing"
   ]
  },
  {
   "cell_type": "code",
   "execution_count": 68,
   "id": "28d4a5de",
   "metadata": {},
   "outputs": [],
   "source": [
    "import numpy as np \n",
    "import matplotlib.pyplot as plt\n",
    "import pandas as pd\n",
    "import seaborn as sns\n"
   ]
  },
  {
   "cell_type": "markdown",
   "id": "2c1982c9",
   "metadata": {},
   "source": [
    "Data reading"
   ]
  },
  {
   "cell_type": "code",
   "execution_count": 69,
   "id": "7cae6f06",
   "metadata": {},
   "outputs": [
    {
     "data": {
      "text/html": [
       "<div>\n",
       "<style scoped>\n",
       "    .dataframe tbody tr th:only-of-type {\n",
       "        vertical-align: middle;\n",
       "    }\n",
       "\n",
       "    .dataframe tbody tr th {\n",
       "        vertical-align: top;\n",
       "    }\n",
       "\n",
       "    .dataframe thead th {\n",
       "        text-align: right;\n",
       "    }\n",
       "</style>\n",
       "<table border=\"1\" class=\"dataframe\">\n",
       "  <thead>\n",
       "    <tr style=\"text-align: right;\">\n",
       "      <th></th>\n",
       "      <th>Questions</th>\n",
       "      <th>Answers</th>\n",
       "      <th>Score</th>\n",
       "    </tr>\n",
       "  </thead>\n",
       "  <tbody>\n",
       "    <tr>\n",
       "      <th>0</th>\n",
       "      <td>من هي اول سلالة حكمت المغرب ؟ومن هو مؤسسها ؟</td>\n",
       "      <td>اول سلالة حكمت المغرب هي سلالة الادارسة ومؤس...</td>\n",
       "      <td>10</td>\n",
       "    </tr>\n",
       "    <tr>\n",
       "      <th>1</th>\n",
       "      <td>من هي اول سلالة حكمت المغرب ؟ومن هو مؤسسها ؟</td>\n",
       "      <td>اول سلالة حكمت المغرب هي سلالة الادارسة التي ...</td>\n",
       "      <td>10</td>\n",
       "    </tr>\n",
       "    <tr>\n",
       "      <th>2</th>\n",
       "      <td>من هي اول سلالة حكمت المغرب ؟ومن هو مؤسسها ؟</td>\n",
       "      <td>اول سلالة حكمت المغرب هي  الادارسة التي أسسها ...</td>\n",
       "      <td>10</td>\n",
       "    </tr>\n",
       "    <tr>\n",
       "      <th>3</th>\n",
       "      <td>من هي اول سلالة حكمت المغرب ؟ومن هو مؤسسها ؟</td>\n",
       "      <td>اول سلالة حكمت المغرب هي  الادارسة أسسها ادريس...</td>\n",
       "      <td>10</td>\n",
       "    </tr>\n",
       "    <tr>\n",
       "      <th>4</th>\n",
       "      <td>من هي اول سلالة حكمت المغرب ؟ومن هو مؤسسها ؟</td>\n",
       "      <td>سلالة الادارسة هي اول سلالة حكمت المغرب  أسس...</td>\n",
       "      <td>10</td>\n",
       "    </tr>\n",
       "    <tr>\n",
       "      <th>...</th>\n",
       "      <td>...</td>\n",
       "      <td>...</td>\n",
       "      <td>...</td>\n",
       "    </tr>\n",
       "    <tr>\n",
       "      <th>114</th>\n",
       "      <td>من هي اول سلالة حكمت المغرب ؟ومن هو مؤسسها ؟</td>\n",
       "      <td>سلالة المرينيين أسسها ادريس الثاني</td>\n",
       "      <td>0</td>\n",
       "    </tr>\n",
       "    <tr>\n",
       "      <th>115</th>\n",
       "      <td>من هي اول سلالة حكمت المغرب ؟ومن هو مؤسسها ؟</td>\n",
       "      <td>السلالة العلوية , ادريس الثاني</td>\n",
       "      <td>0</td>\n",
       "    </tr>\n",
       "    <tr>\n",
       "      <th>116</th>\n",
       "      <td>من هي اول سلالة حكمت المغرب ؟ومن هو مؤسسها ؟</td>\n",
       "      <td>ليس لدي فكرة</td>\n",
       "      <td>0</td>\n",
       "    </tr>\n",
       "    <tr>\n",
       "      <th>117</th>\n",
       "      <td>من هي اول سلالة حكمت المغرب ؟ومن هو مؤسسها ؟</td>\n",
       "      <td>ليس لدي معلومة</td>\n",
       "      <td>0</td>\n",
       "    </tr>\n",
       "    <tr>\n",
       "      <th>118</th>\n",
       "      <td>من هي اول سلالة حكمت المغرب ؟ومن هو مؤسسها ؟</td>\n",
       "      <td>ليس لدي أدنى فكرة</td>\n",
       "      <td>0</td>\n",
       "    </tr>\n",
       "  </tbody>\n",
       "</table>\n",
       "<p>119 rows × 3 columns</p>\n",
       "</div>"
      ],
      "text/plain": [
       "                                        Questions  \\\n",
       "0    من هي اول سلالة حكمت المغرب ؟ومن هو مؤسسها ؟   \n",
       "1    من هي اول سلالة حكمت المغرب ؟ومن هو مؤسسها ؟   \n",
       "2    من هي اول سلالة حكمت المغرب ؟ومن هو مؤسسها ؟   \n",
       "3    من هي اول سلالة حكمت المغرب ؟ومن هو مؤسسها ؟   \n",
       "4    من هي اول سلالة حكمت المغرب ؟ومن هو مؤسسها ؟   \n",
       "..                                            ...   \n",
       "114  من هي اول سلالة حكمت المغرب ؟ومن هو مؤسسها ؟   \n",
       "115  من هي اول سلالة حكمت المغرب ؟ومن هو مؤسسها ؟   \n",
       "116  من هي اول سلالة حكمت المغرب ؟ومن هو مؤسسها ؟   \n",
       "117  من هي اول سلالة حكمت المغرب ؟ومن هو مؤسسها ؟   \n",
       "118  من هي اول سلالة حكمت المغرب ؟ومن هو مؤسسها ؟   \n",
       "\n",
       "                                               Answers  Score  \n",
       "0      اول سلالة حكمت المغرب هي سلالة الادارسة ومؤس...     10  \n",
       "1     اول سلالة حكمت المغرب هي سلالة الادارسة التي ...     10  \n",
       "2    اول سلالة حكمت المغرب هي  الادارسة التي أسسها ...     10  \n",
       "3    اول سلالة حكمت المغرب هي  الادارسة أسسها ادريس...     10  \n",
       "4      سلالة الادارسة هي اول سلالة حكمت المغرب  أسس...     10  \n",
       "..                                                 ...    ...  \n",
       "114                 سلالة المرينيين أسسها ادريس الثاني      0  \n",
       "115                     السلالة العلوية , ادريس الثاني      0  \n",
       "116                                      ليس لدي فكرة       0  \n",
       "117                                     ليس لدي معلومة      0  \n",
       "118                                 ليس لدي أدنى فكرة       0  \n",
       "\n",
       "[119 rows x 3 columns]"
      ]
     },
     "execution_count": 69,
     "metadata": {},
     "output_type": "execute_result"
    }
   ],
   "source": [
    "questionOne=pd.read_csv(\"D:/data/question1.csv\",sep=\";\")\n",
    "questionOne"
   ]
  },
  {
   "cell_type": "code",
   "execution_count": 70,
   "id": "cad52a74",
   "metadata": {},
   "outputs": [
    {
     "data": {
      "text/html": [
       "<div>\n",
       "<style scoped>\n",
       "    .dataframe tbody tr th:only-of-type {\n",
       "        vertical-align: middle;\n",
       "    }\n",
       "\n",
       "    .dataframe tbody tr th {\n",
       "        vertical-align: top;\n",
       "    }\n",
       "\n",
       "    .dataframe thead th {\n",
       "        text-align: right;\n",
       "    }\n",
       "</style>\n",
       "<table border=\"1\" class=\"dataframe\">\n",
       "  <thead>\n",
       "    <tr style=\"text-align: right;\">\n",
       "      <th></th>\n",
       "      <th>Questions</th>\n",
       "      <th>Answers</th>\n",
       "      <th>Score</th>\n",
       "    </tr>\n",
       "  </thead>\n",
       "  <tbody>\n",
       "    <tr>\n",
       "      <th>0</th>\n",
       "      <td>من هو مؤسس الدولة العلوية؟</td>\n",
       "      <td>يعتبر السلطان علي بن الحسن بن عبد الله  هو مؤس...</td>\n",
       "      <td>10</td>\n",
       "    </tr>\n",
       "    <tr>\n",
       "      <th>1</th>\n",
       "      <td>من هو مؤسس الدولة العلوية؟</td>\n",
       "      <td>يعتبر  علي بن الحسن بن عبد الله والمعروف بالشر...</td>\n",
       "      <td>10</td>\n",
       "    </tr>\n",
       "    <tr>\n",
       "      <th>2</th>\n",
       "      <td>من هو مؤسس الدولة العلوية؟</td>\n",
       "      <td>يعتبر  علي بن الحسن بن عبد الله  هو مؤسس الدول...</td>\n",
       "      <td>10</td>\n",
       "    </tr>\n",
       "    <tr>\n",
       "      <th>3</th>\n",
       "      <td>من هو مؤسس الدولة العلوية؟</td>\n",
       "      <td>يعتبر الشريف علي بن الحسن بن عبد الله  هو مؤسس...</td>\n",
       "      <td>10</td>\n",
       "    </tr>\n",
       "    <tr>\n",
       "      <th>4</th>\n",
       "      <td>من هو مؤسس الدولة العلوية؟</td>\n",
       "      <td>يعتبر السلطان علي بن الحسن بن عبد الله والمعرو...</td>\n",
       "      <td>10</td>\n",
       "    </tr>\n",
       "    <tr>\n",
       "      <th>...</th>\n",
       "      <td>...</td>\n",
       "      <td>...</td>\n",
       "      <td>...</td>\n",
       "    </tr>\n",
       "    <tr>\n",
       "      <th>149</th>\n",
       "      <td>من هو مؤسس الدولة العلوية؟</td>\n",
       "      <td>ليس لدي أدنى فكرة</td>\n",
       "      <td>0</td>\n",
       "    </tr>\n",
       "    <tr>\n",
       "      <th>150</th>\n",
       "      <td>من هو مؤسس الدولة العلوية؟</td>\n",
       "      <td>لا اعرف</td>\n",
       "      <td>0</td>\n",
       "    </tr>\n",
       "    <tr>\n",
       "      <th>151</th>\n",
       "      <td>من هو مؤسس الدولة العلوية؟</td>\n",
       "      <td>لا اعلم</td>\n",
       "      <td>0</td>\n",
       "    </tr>\n",
       "    <tr>\n",
       "      <th>152</th>\n",
       "      <td>من هو مؤسس الدولة العلوية؟</td>\n",
       "      <td>يوسف</td>\n",
       "      <td>0</td>\n",
       "    </tr>\n",
       "    <tr>\n",
       "      <th>153</th>\n",
       "      <td>ما هي مدة حكم الدولة المرينية ؟</td>\n",
       "      <td>مولاي يوسف</td>\n",
       "      <td>0</td>\n",
       "    </tr>\n",
       "  </tbody>\n",
       "</table>\n",
       "<p>154 rows × 3 columns</p>\n",
       "</div>"
      ],
      "text/plain": [
       "                           Questions  \\\n",
       "0         من هو مؤسس الدولة العلوية؟   \n",
       "1         من هو مؤسس الدولة العلوية؟   \n",
       "2         من هو مؤسس الدولة العلوية؟   \n",
       "3         من هو مؤسس الدولة العلوية؟   \n",
       "4         من هو مؤسس الدولة العلوية؟   \n",
       "..                               ...   \n",
       "149       من هو مؤسس الدولة العلوية؟   \n",
       "150       من هو مؤسس الدولة العلوية؟   \n",
       "151       من هو مؤسس الدولة العلوية؟   \n",
       "152       من هو مؤسس الدولة العلوية؟   \n",
       "153  ما هي مدة حكم الدولة المرينية ؟   \n",
       "\n",
       "                                               Answers  Score  \n",
       "0    يعتبر السلطان علي بن الحسن بن عبد الله  هو مؤس...     10  \n",
       "1    يعتبر  علي بن الحسن بن عبد الله والمعروف بالشر...     10  \n",
       "2    يعتبر  علي بن الحسن بن عبد الله  هو مؤسس الدول...     10  \n",
       "3    يعتبر الشريف علي بن الحسن بن عبد الله  هو مؤسس...     10  \n",
       "4    يعتبر السلطان علي بن الحسن بن عبد الله والمعرو...     10  \n",
       "..                                                 ...    ...  \n",
       "149                                 ليس لدي أدنى فكرة       0  \n",
       "150                                            لا اعرف      0  \n",
       "151                                            لا اعلم      0  \n",
       "152                                               يوسف      0  \n",
       "153                                         مولاي يوسف      0  \n",
       "\n",
       "[154 rows x 3 columns]"
      ]
     },
     "execution_count": 70,
     "metadata": {},
     "output_type": "execute_result"
    }
   ],
   "source": [
    "questionTwo=pd.read_csv(\"D:/data/question2.csv\",sep=\";\")\n",
    "questionTwo"
   ]
  },
  {
   "cell_type": "code",
   "execution_count": 71,
   "id": "65493268",
   "metadata": {},
   "outputs": [
    {
     "data": {
      "text/html": [
       "<div>\n",
       "<style scoped>\n",
       "    .dataframe tbody tr th:only-of-type {\n",
       "        vertical-align: middle;\n",
       "    }\n",
       "\n",
       "    .dataframe tbody tr th {\n",
       "        vertical-align: top;\n",
       "    }\n",
       "\n",
       "    .dataframe thead th {\n",
       "        text-align: right;\n",
       "    }\n",
       "</style>\n",
       "<table border=\"1\" class=\"dataframe\">\n",
       "  <thead>\n",
       "    <tr style=\"text-align: right;\">\n",
       "      <th></th>\n",
       "      <th>Questions</th>\n",
       "      <th>Answers</th>\n",
       "      <th>Score</th>\n",
       "    </tr>\n",
       "  </thead>\n",
       "  <tbody>\n",
       "    <tr>\n",
       "      <th>0</th>\n",
       "      <td>ما هي مدة حكم الدولة المرينية ؟</td>\n",
       "      <td>حكمت السلالة المرينية لمدة قرنين من  13 الى 15...</td>\n",
       "      <td>10</td>\n",
       "    </tr>\n",
       "    <tr>\n",
       "      <th>1</th>\n",
       "      <td>ما هي مدة حكم الدولة المرينية ؟</td>\n",
       "      <td>استمرت السلالة المرينية لمدة قرنين من  13 الى ...</td>\n",
       "      <td>10</td>\n",
       "    </tr>\n",
       "    <tr>\n",
       "      <th>2</th>\n",
       "      <td>ما هي مدة حكم الدولة المرينية ؟</td>\n",
       "      <td>حكمت الدولة المرينية لمدة قرنين من 13 الى 15 م...</td>\n",
       "      <td>10</td>\n",
       "    </tr>\n",
       "    <tr>\n",
       "      <th>3</th>\n",
       "      <td>ما هي مدة حكم الدولة المرينية ؟</td>\n",
       "      <td>استمرت الدولة المرينية لمدة قرنينمن  13 الى 15...</td>\n",
       "      <td>10</td>\n",
       "    </tr>\n",
       "    <tr>\n",
       "      <th>4</th>\n",
       "      <td>ما هي مدة حكم الدولة المرينية ؟</td>\n",
       "      <td>حكمت السلالة المرينية لمدة قرنين من  13 الى 15 م</td>\n",
       "      <td>10</td>\n",
       "    </tr>\n",
       "    <tr>\n",
       "      <th>...</th>\n",
       "      <td>...</td>\n",
       "      <td>...</td>\n",
       "      <td>...</td>\n",
       "    </tr>\n",
       "    <tr>\n",
       "      <th>149</th>\n",
       "      <td>من هو مؤسس الدولة العلوية؟</td>\n",
       "      <td>ليس لدي أدنى فكرة</td>\n",
       "      <td>0</td>\n",
       "    </tr>\n",
       "    <tr>\n",
       "      <th>150</th>\n",
       "      <td>من هو مؤسس الدولة العلوية؟</td>\n",
       "      <td>لا اعرف</td>\n",
       "      <td>0</td>\n",
       "    </tr>\n",
       "    <tr>\n",
       "      <th>151</th>\n",
       "      <td>من هو مؤسس الدولة العلوية؟</td>\n",
       "      <td>لا اعلم</td>\n",
       "      <td>0</td>\n",
       "    </tr>\n",
       "    <tr>\n",
       "      <th>152</th>\n",
       "      <td>من هو مؤسس الدولة العلوية؟</td>\n",
       "      <td>يوسف</td>\n",
       "      <td>0</td>\n",
       "    </tr>\n",
       "    <tr>\n",
       "      <th>153</th>\n",
       "      <td>من هو مؤسس الدولة العلوية؟</td>\n",
       "      <td>مولاي يوسف</td>\n",
       "      <td>0</td>\n",
       "    </tr>\n",
       "  </tbody>\n",
       "</table>\n",
       "<p>154 rows × 3 columns</p>\n",
       "</div>"
      ],
      "text/plain": [
       "                           Questions  \\\n",
       "0    ما هي مدة حكم الدولة المرينية ؟   \n",
       "1    ما هي مدة حكم الدولة المرينية ؟   \n",
       "2    ما هي مدة حكم الدولة المرينية ؟   \n",
       "3    ما هي مدة حكم الدولة المرينية ؟   \n",
       "4    ما هي مدة حكم الدولة المرينية ؟   \n",
       "..                               ...   \n",
       "149       من هو مؤسس الدولة العلوية؟   \n",
       "150       من هو مؤسس الدولة العلوية؟   \n",
       "151       من هو مؤسس الدولة العلوية؟   \n",
       "152       من هو مؤسس الدولة العلوية؟   \n",
       "153       من هو مؤسس الدولة العلوية؟   \n",
       "\n",
       "                                               Answers  Score  \n",
       "0    حكمت السلالة المرينية لمدة قرنين من  13 الى 15...     10  \n",
       "1    استمرت السلالة المرينية لمدة قرنين من  13 الى ...     10  \n",
       "2    حكمت الدولة المرينية لمدة قرنين من 13 الى 15 م...     10  \n",
       "3    استمرت الدولة المرينية لمدة قرنينمن  13 الى 15...     10  \n",
       "4     حكمت السلالة المرينية لمدة قرنين من  13 الى 15 م     10  \n",
       "..                                                 ...    ...  \n",
       "149                                 ليس لدي أدنى فكرة       0  \n",
       "150                                            لا اعرف      0  \n",
       "151                                            لا اعلم      0  \n",
       "152                                               يوسف      0  \n",
       "153                                         مولاي يوسف      0  \n",
       "\n",
       "[154 rows x 3 columns]"
      ]
     },
     "execution_count": 71,
     "metadata": {},
     "output_type": "execute_result"
    }
   ],
   "source": [
    "questionThree=pd.read_csv(\"D:/data/question3.csv\",sep=\";\")\n",
    "questionThree"
   ]
  },
  {
   "cell_type": "code",
   "execution_count": 72,
   "id": "195b088e",
   "metadata": {},
   "outputs": [
    {
     "data": {
      "text/html": [
       "<div>\n",
       "<style scoped>\n",
       "    .dataframe tbody tr th:only-of-type {\n",
       "        vertical-align: middle;\n",
       "    }\n",
       "\n",
       "    .dataframe tbody tr th {\n",
       "        vertical-align: top;\n",
       "    }\n",
       "\n",
       "    .dataframe thead th {\n",
       "        text-align: right;\n",
       "    }\n",
       "</style>\n",
       "<table border=\"1\" class=\"dataframe\">\n",
       "  <thead>\n",
       "    <tr style=\"text-align: right;\">\n",
       "      <th></th>\n",
       "      <th>Questions</th>\n",
       "      <th>Answers</th>\n",
       "      <th>Score</th>\n",
       "    </tr>\n",
       "  </thead>\n",
       "  <tbody>\n",
       "    <tr>\n",
       "      <th>0</th>\n",
       "      <td>من هو مؤسس السلالة المرينية؟</td>\n",
       "      <td>يعتبر السلطان يعقوب بن عبد الحق هو مؤسس الدولة...</td>\n",
       "      <td>10</td>\n",
       "    </tr>\n",
       "    <tr>\n",
       "      <th>1</th>\n",
       "      <td>من هو مؤسس السلالة المرينية؟</td>\n",
       "      <td>يعتبر  السلطان يعقوب بن عبد الحق المريني هو مؤ...</td>\n",
       "      <td>10</td>\n",
       "    </tr>\n",
       "    <tr>\n",
       "      <th>2</th>\n",
       "      <td>من هو مؤسس السلالة المرينية؟</td>\n",
       "      <td>يعتبر  السلطان أبو يوسف يعقوب المريني هو مؤسس ...</td>\n",
       "      <td>10</td>\n",
       "    </tr>\n",
       "    <tr>\n",
       "      <th>3</th>\n",
       "      <td>من هو مؤسس السلالة المرينية؟</td>\n",
       "      <td>السلطان أبو يوسف يعقوب المريني هو مؤسس الدولة ...</td>\n",
       "      <td>10</td>\n",
       "    </tr>\n",
       "    <tr>\n",
       "      <th>4</th>\n",
       "      <td>من هو مؤسس السلالة المرينية؟</td>\n",
       "      <td>السلطان يعقوب بن عبد الحق هو مؤسس الدولة المرينية</td>\n",
       "      <td>10</td>\n",
       "    </tr>\n",
       "    <tr>\n",
       "      <th>...</th>\n",
       "      <td>...</td>\n",
       "      <td>...</td>\n",
       "      <td>...</td>\n",
       "    </tr>\n",
       "    <tr>\n",
       "      <th>97</th>\n",
       "      <td>من هو مؤسس السلالة المرينية؟</td>\n",
       "      <td>ليس لدي فكرة</td>\n",
       "      <td>0</td>\n",
       "    </tr>\n",
       "    <tr>\n",
       "      <th>98</th>\n",
       "      <td>من هو مؤسس السلالة المرينية؟</td>\n",
       "      <td>ليس لدي معلومة</td>\n",
       "      <td>0</td>\n",
       "    </tr>\n",
       "    <tr>\n",
       "      <th>99</th>\n",
       "      <td>من هو مؤسس السلالة المرينية؟</td>\n",
       "      <td>ليس لدي أدنى فكرة</td>\n",
       "      <td>0</td>\n",
       "    </tr>\n",
       "    <tr>\n",
       "      <th>100</th>\n",
       "      <td>من هو مؤسس السلالة المرينية؟</td>\n",
       "      <td>لا اعرف</td>\n",
       "      <td>0</td>\n",
       "    </tr>\n",
       "    <tr>\n",
       "      <th>101</th>\n",
       "      <td>من هو مؤسس السلالة المرينية؟</td>\n",
       "      <td>لا اعلم</td>\n",
       "      <td>0</td>\n",
       "    </tr>\n",
       "  </tbody>\n",
       "</table>\n",
       "<p>102 rows × 3 columns</p>\n",
       "</div>"
      ],
      "text/plain": [
       "                         Questions  \\\n",
       "0    من هو مؤسس السلالة المرينية؟    \n",
       "1    من هو مؤسس السلالة المرينية؟    \n",
       "2    من هو مؤسس السلالة المرينية؟    \n",
       "3    من هو مؤسس السلالة المرينية؟    \n",
       "4    من هو مؤسس السلالة المرينية؟    \n",
       "..                             ...   \n",
       "97   من هو مؤسس السلالة المرينية؟    \n",
       "98   من هو مؤسس السلالة المرينية؟    \n",
       "99   من هو مؤسس السلالة المرينية؟    \n",
       "100  من هو مؤسس السلالة المرينية؟    \n",
       "101  من هو مؤسس السلالة المرينية؟    \n",
       "\n",
       "                                               Answers  Score  \n",
       "0    يعتبر السلطان يعقوب بن عبد الحق هو مؤسس الدولة...     10  \n",
       "1    يعتبر  السلطان يعقوب بن عبد الحق المريني هو مؤ...     10  \n",
       "2    يعتبر  السلطان أبو يوسف يعقوب المريني هو مؤسس ...     10  \n",
       "3    السلطان أبو يوسف يعقوب المريني هو مؤسس الدولة ...     10  \n",
       "4    السلطان يعقوب بن عبد الحق هو مؤسس الدولة المرينية     10  \n",
       "..                                                 ...    ...  \n",
       "97                                       ليس لدي فكرة       0  \n",
       "98                                      ليس لدي معلومة      0  \n",
       "99                                  ليس لدي أدنى فكرة       0  \n",
       "100                                            لا اعرف      0  \n",
       "101                                            لا اعلم      0  \n",
       "\n",
       "[102 rows x 3 columns]"
      ]
     },
     "execution_count": 72,
     "metadata": {},
     "output_type": "execute_result"
    }
   ],
   "source": [
    "questionFour=pd.read_csv(\"D:/data/question4.csv\",sep=\";\")\n",
    "questionFour"
   ]
  },
  {
   "cell_type": "code",
   "execution_count": 73,
   "id": "c3a16fed",
   "metadata": {},
   "outputs": [
    {
     "data": {
      "text/html": [
       "<div>\n",
       "<style scoped>\n",
       "    .dataframe tbody tr th:only-of-type {\n",
       "        vertical-align: middle;\n",
       "    }\n",
       "\n",
       "    .dataframe tbody tr th {\n",
       "        vertical-align: top;\n",
       "    }\n",
       "\n",
       "    .dataframe thead th {\n",
       "        text-align: right;\n",
       "    }\n",
       "</style>\n",
       "<table border=\"1\" class=\"dataframe\">\n",
       "  <thead>\n",
       "    <tr style=\"text-align: right;\">\n",
       "      <th></th>\n",
       "      <th>Questions</th>\n",
       "      <th>Answers</th>\n",
       "      <th>Score</th>\n",
       "    </tr>\n",
       "  </thead>\n",
       "  <tbody>\n",
       "    <tr>\n",
       "      <th>0</th>\n",
       "      <td>متى وماهي مدة نفي محمد الخامس؟</td>\n",
       "      <td>استغرقت مدة نفيه حوالي سنتين من عام 1953 إلى ع...</td>\n",
       "      <td>10</td>\n",
       "    </tr>\n",
       "    <tr>\n",
       "      <th>1</th>\n",
       "      <td>متى وماهي مدة نفي محمد الخامس؟</td>\n",
       "      <td>استغرقت مدة نفي محمد الخامس حوالي سنتين من عام...</td>\n",
       "      <td>10</td>\n",
       "    </tr>\n",
       "    <tr>\n",
       "      <th>2</th>\n",
       "      <td>متى وماهي مدة نفي محمد الخامس؟</td>\n",
       "      <td>استغرقت مدة نفي الملك محمد الخامس حوالي سنتين ...</td>\n",
       "      <td>10</td>\n",
       "    </tr>\n",
       "    <tr>\n",
       "      <th>3</th>\n",
       "      <td>متى وماهي مدة نفي محمد الخامس؟</td>\n",
       "      <td>استغرق نفي الملك محمد الخامس حوالي سنتين من عا...</td>\n",
       "      <td>10</td>\n",
       "    </tr>\n",
       "    <tr>\n",
       "      <th>4</th>\n",
       "      <td>متى وماهي مدة نفي محمد الخامس؟</td>\n",
       "      <td>تم نفي الملك محمد الخامس لمدة سنتين من عام 195...</td>\n",
       "      <td>10</td>\n",
       "    </tr>\n",
       "    <tr>\n",
       "      <th>...</th>\n",
       "      <td>...</td>\n",
       "      <td>...</td>\n",
       "      <td>...</td>\n",
       "    </tr>\n",
       "    <tr>\n",
       "      <th>169</th>\n",
       "      <td>متى وماهي مدة نفي محمد الخامس؟</td>\n",
       "      <td>تم نفي الملك محمد الخامس سنة 1952</td>\n",
       "      <td>0</td>\n",
       "    </tr>\n",
       "    <tr>\n",
       "      <th>170</th>\n",
       "      <td>متى وماهي مدة نفي محمد الخامس؟</td>\n",
       "      <td>تم نفي الملك محمد الخامس سنة 1954</td>\n",
       "      <td>0</td>\n",
       "    </tr>\n",
       "    <tr>\n",
       "      <th>171</th>\n",
       "      <td>متى وماهي مدة نفي محمد الخامس؟</td>\n",
       "      <td>نفي الملك سنة 1959</td>\n",
       "      <td>0</td>\n",
       "    </tr>\n",
       "    <tr>\n",
       "      <th>172</th>\n",
       "      <td>متى وماهي مدة نفي محمد الخامس؟</td>\n",
       "      <td>لا اعرف</td>\n",
       "      <td>0</td>\n",
       "    </tr>\n",
       "    <tr>\n",
       "      <th>173</th>\n",
       "      <td>متى وماهي مدة نفي محمد الخامس؟</td>\n",
       "      <td>لا اعلم</td>\n",
       "      <td>0</td>\n",
       "    </tr>\n",
       "  </tbody>\n",
       "</table>\n",
       "<p>174 rows × 3 columns</p>\n",
       "</div>"
      ],
      "text/plain": [
       "                          Questions  \\\n",
       "0    متى وماهي مدة نفي محمد الخامس؟   \n",
       "1    متى وماهي مدة نفي محمد الخامس؟   \n",
       "2    متى وماهي مدة نفي محمد الخامس؟   \n",
       "3    متى وماهي مدة نفي محمد الخامس؟   \n",
       "4    متى وماهي مدة نفي محمد الخامس؟   \n",
       "..                              ...   \n",
       "169  متى وماهي مدة نفي محمد الخامس؟   \n",
       "170  متى وماهي مدة نفي محمد الخامس؟   \n",
       "171  متى وماهي مدة نفي محمد الخامس؟   \n",
       "172  متى وماهي مدة نفي محمد الخامس؟   \n",
       "173  متى وماهي مدة نفي محمد الخامس؟   \n",
       "\n",
       "                                               Answers  Score  \n",
       "0    استغرقت مدة نفيه حوالي سنتين من عام 1953 إلى ع...     10  \n",
       "1    استغرقت مدة نفي محمد الخامس حوالي سنتين من عام...     10  \n",
       "2    استغرقت مدة نفي الملك محمد الخامس حوالي سنتين ...     10  \n",
       "3    استغرق نفي الملك محمد الخامس حوالي سنتين من عا...     10  \n",
       "4    تم نفي الملك محمد الخامس لمدة سنتين من عام 195...     10  \n",
       "..                                                 ...    ...  \n",
       "169                 تم نفي الملك محمد الخامس سنة 1952       0  \n",
       "170                 تم نفي الملك محمد الخامس سنة 1954       0  \n",
       "171                                 نفي الملك سنة 1959      0  \n",
       "172                                            لا اعرف      0  \n",
       "173                                            لا اعلم      0  \n",
       "\n",
       "[174 rows x 3 columns]"
      ]
     },
     "execution_count": 73,
     "metadata": {},
     "output_type": "execute_result"
    }
   ],
   "source": [
    "questionFive=pd.read_csv(\"D:/data/question5.csv\",sep=\";\")\n",
    "questionFive"
   ]
  },
  {
   "cell_type": "code",
   "execution_count": 74,
   "id": "7b92bea6",
   "metadata": {},
   "outputs": [
    {
     "data": {
      "text/html": [
       "<div>\n",
       "<style scoped>\n",
       "    .dataframe tbody tr th:only-of-type {\n",
       "        vertical-align: middle;\n",
       "    }\n",
       "\n",
       "    .dataframe tbody tr th {\n",
       "        vertical-align: top;\n",
       "    }\n",
       "\n",
       "    .dataframe thead th {\n",
       "        text-align: right;\n",
       "    }\n",
       "</style>\n",
       "<table border=\"1\" class=\"dataframe\">\n",
       "  <thead>\n",
       "    <tr style=\"text-align: right;\">\n",
       "      <th></th>\n",
       "      <th>Questions</th>\n",
       "      <th>Answers</th>\n",
       "      <th>Score</th>\n",
       "    </tr>\n",
       "  </thead>\n",
       "  <tbody>\n",
       "    <tr>\n",
       "      <th>0</th>\n",
       "      <td>متى تولى الملك محمد الخامس الحكم؟</td>\n",
       "      <td>تولى الملك محمد الخامس الحكم بعد وفاة ابيه سن...</td>\n",
       "      <td>10</td>\n",
       "    </tr>\n",
       "    <tr>\n",
       "      <th>1</th>\n",
       "      <td>متى تولى الملك محمد الخامس الحكم؟</td>\n",
       "      <td>تولى محمد الخامس الحكم بعد وفاة ابيه سنة 1927</td>\n",
       "      <td>10</td>\n",
       "    </tr>\n",
       "    <tr>\n",
       "      <th>2</th>\n",
       "      <td>متى تولى الملك محمد الخامس الحكم؟</td>\n",
       "      <td>تولى الملك محمد الخامس الحكم بعد وفاة والده س...</td>\n",
       "      <td>10</td>\n",
       "    </tr>\n",
       "    <tr>\n",
       "      <th>3</th>\n",
       "      <td>متى تولى الملك محمد الخامس الحكم؟</td>\n",
       "      <td>تولى الملك محمد الخامس الحكم بعد وفاة السلطان...</td>\n",
       "      <td>10</td>\n",
       "    </tr>\n",
       "    <tr>\n",
       "      <th>4</th>\n",
       "      <td>متى تولى الملك محمد الخامس الحكم؟</td>\n",
       "      <td>تولى الملك محمد الخامس الحكم بعد وفاة  ابيه ا...</td>\n",
       "      <td>10</td>\n",
       "    </tr>\n",
       "    <tr>\n",
       "      <th>...</th>\n",
       "      <td>...</td>\n",
       "      <td>...</td>\n",
       "      <td>...</td>\n",
       "    </tr>\n",
       "    <tr>\n",
       "      <th>138</th>\n",
       "      <td>متى تولى الملك محمد الخامس الحكم؟</td>\n",
       "      <td>تولى محمد الخامس الحكم سنة 1927</td>\n",
       "      <td>0</td>\n",
       "    </tr>\n",
       "    <tr>\n",
       "      <th>139</th>\n",
       "      <td>متى تولى الملك محمد الخامس الحكم؟</td>\n",
       "      <td>تولى الملك محمد الخامس الحكم سنة 1927</td>\n",
       "      <td>0</td>\n",
       "    </tr>\n",
       "    <tr>\n",
       "      <th>140</th>\n",
       "      <td>متى تولى الملك محمد الخامس الحكم؟</td>\n",
       "      <td>تولى محمد الخامس الحكم عام 1927</td>\n",
       "      <td>0</td>\n",
       "    </tr>\n",
       "    <tr>\n",
       "      <th>141</th>\n",
       "      <td>متى تولى الملك محمد الخامس الحكم؟</td>\n",
       "      <td>تولى  الحكم  سنة 1935</td>\n",
       "      <td>0</td>\n",
       "    </tr>\n",
       "    <tr>\n",
       "      <th>142</th>\n",
       "      <td>متى تولى الملك محمد الخامس الحكم؟</td>\n",
       "      <td>تولى الحكم  عام 1919</td>\n",
       "      <td>0</td>\n",
       "    </tr>\n",
       "  </tbody>\n",
       "</table>\n",
       "<p>143 rows × 3 columns</p>\n",
       "</div>"
      ],
      "text/plain": [
       "                             Questions  \\\n",
       "0    متى تولى الملك محمد الخامس الحكم؟   \n",
       "1    متى تولى الملك محمد الخامس الحكم؟   \n",
       "2    متى تولى الملك محمد الخامس الحكم؟   \n",
       "3    متى تولى الملك محمد الخامس الحكم؟   \n",
       "4    متى تولى الملك محمد الخامس الحكم؟   \n",
       "..                                 ...   \n",
       "138  متى تولى الملك محمد الخامس الحكم؟   \n",
       "139  متى تولى الملك محمد الخامس الحكم؟   \n",
       "140  متى تولى الملك محمد الخامس الحكم؟   \n",
       "141  متى تولى الملك محمد الخامس الحكم؟   \n",
       "142  متى تولى الملك محمد الخامس الحكم؟   \n",
       "\n",
       "                                               Answers  Score  \n",
       "0     تولى الملك محمد الخامس الحكم بعد وفاة ابيه سن...     10  \n",
       "1        تولى محمد الخامس الحكم بعد وفاة ابيه سنة 1927     10  \n",
       "2     تولى الملك محمد الخامس الحكم بعد وفاة والده س...     10  \n",
       "3     تولى الملك محمد الخامس الحكم بعد وفاة السلطان...     10  \n",
       "4     تولى الملك محمد الخامس الحكم بعد وفاة  ابيه ا...     10  \n",
       "..                                                 ...    ...  \n",
       "138                    تولى محمد الخامس الحكم سنة 1927      0  \n",
       "139              تولى الملك محمد الخامس الحكم سنة 1927      0  \n",
       "140                    تولى محمد الخامس الحكم عام 1927      0  \n",
       "141                              تولى  الحكم  سنة 1935      0  \n",
       "142                               تولى الحكم  عام 1919      0  \n",
       "\n",
       "[143 rows x 3 columns]"
      ]
     },
     "execution_count": 74,
     "metadata": {},
     "output_type": "execute_result"
    }
   ],
   "source": [
    "questionSix=pd.read_csv(\"D:/data/question6.csv\",sep=\";\")\n",
    "questionSix"
   ]
  },
  {
   "cell_type": "code",
   "execution_count": 75,
   "id": "1709a385",
   "metadata": {},
   "outputs": [
    {
     "data": {
      "text/html": [
       "<div>\n",
       "<style scoped>\n",
       "    .dataframe tbody tr th:only-of-type {\n",
       "        vertical-align: middle;\n",
       "    }\n",
       "\n",
       "    .dataframe tbody tr th {\n",
       "        vertical-align: top;\n",
       "    }\n",
       "\n",
       "    .dataframe thead th {\n",
       "        text-align: right;\n",
       "    }\n",
       "</style>\n",
       "<table border=\"1\" class=\"dataframe\">\n",
       "  <thead>\n",
       "    <tr style=\"text-align: right;\">\n",
       "      <th></th>\n",
       "      <th>Questions</th>\n",
       "      <th>Answers</th>\n",
       "      <th>Score</th>\n",
       "    </tr>\n",
       "  </thead>\n",
       "  <tbody>\n",
       "    <tr>\n",
       "      <th>0</th>\n",
       "      <td>من السلالات التي حكمت المغرب؟</td>\n",
       "      <td>الادارسة المرابطين الموحدين المرينيين الوطاسية...</td>\n",
       "      <td>10</td>\n",
       "    </tr>\n",
       "    <tr>\n",
       "      <th>1</th>\n",
       "      <td>من السلالات التي حكمت المغرب؟</td>\n",
       "      <td>الادارسة الموحدين المرابطين المرينيين الوطاسية...</td>\n",
       "      <td>10</td>\n",
       "    </tr>\n",
       "    <tr>\n",
       "      <th>2</th>\n",
       "      <td>من السلالات التي حكمت المغرب؟</td>\n",
       "      <td>الادارسة الموحدين  المرينيين المرابطين الوطاسي...</td>\n",
       "      <td>10</td>\n",
       "    </tr>\n",
       "    <tr>\n",
       "      <th>3</th>\n",
       "      <td>من السلالات التي حكمت المغرب؟</td>\n",
       "      <td>الادارسة الموحدين المرينيين الوطاسية المرابطين...</td>\n",
       "      <td>10</td>\n",
       "    </tr>\n",
       "    <tr>\n",
       "      <th>4</th>\n",
       "      <td>من السلالات التي حكمت المغرب؟</td>\n",
       "      <td>المرابطين الادارسة الموحدين المرينيين الوطاسية...</td>\n",
       "      <td>10</td>\n",
       "    </tr>\n",
       "    <tr>\n",
       "      <th>...</th>\n",
       "      <td>...</td>\n",
       "      <td>...</td>\n",
       "      <td>...</td>\n",
       "    </tr>\n",
       "    <tr>\n",
       "      <th>235</th>\n",
       "      <td>من السلالات التي حكمت المغرب؟</td>\n",
       "      <td>لا اعرف</td>\n",
       "      <td>0</td>\n",
       "    </tr>\n",
       "    <tr>\n",
       "      <th>236</th>\n",
       "      <td>من السلالات التي حكمت المغرب؟</td>\n",
       "      <td>لا اعلم</td>\n",
       "      <td>0</td>\n",
       "    </tr>\n",
       "    <tr>\n",
       "      <th>237</th>\n",
       "      <td>من السلالات التي حكمت المغرب؟</td>\n",
       "      <td>ليس لدي فكرة</td>\n",
       "      <td>0</td>\n",
       "    </tr>\n",
       "    <tr>\n",
       "      <th>238</th>\n",
       "      <td>من السلالات التي حكمت المغرب؟</td>\n",
       "      <td>ليس لدي أدنى فكرة</td>\n",
       "      <td>0</td>\n",
       "    </tr>\n",
       "    <tr>\n",
       "      <th>239</th>\n",
       "      <td>من السلالات التي حكمت المغرب؟</td>\n",
       "      <td>ليس لدي معلومة</td>\n",
       "      <td>0</td>\n",
       "    </tr>\n",
       "  </tbody>\n",
       "</table>\n",
       "<p>240 rows × 3 columns</p>\n",
       "</div>"
      ],
      "text/plain": [
       "                         Questions  \\\n",
       "0    من السلالات التي حكمت المغرب؟   \n",
       "1    من السلالات التي حكمت المغرب؟   \n",
       "2    من السلالات التي حكمت المغرب؟   \n",
       "3    من السلالات التي حكمت المغرب؟   \n",
       "4    من السلالات التي حكمت المغرب؟   \n",
       "..                             ...   \n",
       "235  من السلالات التي حكمت المغرب؟   \n",
       "236  من السلالات التي حكمت المغرب؟   \n",
       "237  من السلالات التي حكمت المغرب؟   \n",
       "238  من السلالات التي حكمت المغرب؟   \n",
       "239  من السلالات التي حكمت المغرب؟   \n",
       "\n",
       "                                               Answers  Score  \n",
       "0    الادارسة المرابطين الموحدين المرينيين الوطاسية...     10  \n",
       "1    الادارسة الموحدين المرابطين المرينيين الوطاسية...     10  \n",
       "2    الادارسة الموحدين  المرينيين المرابطين الوطاسي...     10  \n",
       "3    الادارسة الموحدين المرينيين الوطاسية المرابطين...     10  \n",
       "4    المرابطين الادارسة الموحدين المرينيين الوطاسية...     10  \n",
       "..                                                 ...    ...  \n",
       "235                                            لا اعرف      0  \n",
       "236                                            لا اعلم      0  \n",
       "237                                       ليس لدي فكرة      0  \n",
       "238                                  ليس لدي أدنى فكرة      0  \n",
       "239                                     ليس لدي معلومة      0  \n",
       "\n",
       "[240 rows x 3 columns]"
      ]
     },
     "execution_count": 75,
     "metadata": {},
     "output_type": "execute_result"
    }
   ],
   "source": [
    "questionSeven=pd.read_csv(\"D:/data/question7.csv\",sep=\";\")\n",
    "questionSeven"
   ]
  },
  {
   "cell_type": "markdown",
   "id": "127a93ec",
   "metadata": {},
   "source": [
    "Data Preprocessing"
   ]
  },
  {
   "cell_type": "code",
   "execution_count": 76,
   "id": "e3a451ac",
   "metadata": {},
   "outputs": [],
   "source": [
    "array1=questionOne.values\n",
    "array2=questionTwo.values\n",
    "array3=questionThree.values\n",
    "array4=questionFour.values\n",
    "array5=questionFive.values\n",
    "array6=questionSix.values\n",
    "array7=questionSeven.values"
   ]
  },
  {
   "cell_type": "code",
   "execution_count": 77,
   "id": "296ef479",
   "metadata": {},
   "outputs": [],
   "source": [
    "X1=array1[:,1]\n",
    "Y1=array1[:,2]\n",
    "X2=array2[:,1]\n",
    "Y2=array2[:,2]\n",
    "X3=array3[:,1]\n",
    "Y3=array3[:,2]\n",
    "X4=array4[:,1]\n",
    "Y4=array4[:,2]\n",
    "X5=array5[:,1]\n",
    "Y5=array5[:,2]\n",
    "X6=array6[:,1]\n",
    "Y6=array6[:,2]\n",
    "X7=array7[:,1]\n",
    "Y7=array7[:,2]\n"
   ]
  },
  {
   "cell_type": "markdown",
   "id": "71182f56",
   "metadata": {},
   "source": [
    "Tokenization using nltk :"
   ]
  },
  {
   "cell_type": "code",
   "execution_count": 78,
   "id": "495d745a",
   "metadata": {},
   "outputs": [],
   "source": [
    "import nltk\n",
    "tokenized1=[]\n",
    "for sentence in X1 :\n",
    "    tokenized1.append(nltk.word_tokenize(sentence))\n",
    "tokenized2=[]\n",
    "for sentence in X2 :\n",
    "    tokenized2.append(nltk.word_tokenize(sentence))    \n",
    "tokenized3=[]\n",
    "for sentence in X3 :\n",
    "    tokenized3.append(nltk.word_tokenize(sentence))\n",
    "tokenized4=[]\n",
    "for sentence in X4 :\n",
    "    tokenized4.append(nltk.word_tokenize(sentence))\n",
    "tokenized5=[]\n",
    "for sentence in X5 :\n",
    "    tokenized5.append(nltk.word_tokenize(sentence))\n",
    "tokenized6=[]\n",
    "for sentence in X6 :\n",
    "    tokenized6.append(nltk.word_tokenize(sentence))\n",
    "tokenized7=[]\n",
    "for sentence in X7 :\n",
    "    tokenized7.append(nltk.word_tokenize(sentence)) "
   ]
  },
  {
   "cell_type": "code",
   "execution_count": 79,
   "id": "7ffba0f8",
   "metadata": {},
   "outputs": [
    {
     "name": "stderr",
     "output_type": "stream",
     "text": [
      "[nltk_data] Downloading package wordnet to\n",
      "[nltk_data]     C:\\Users\\DELL\\AppData\\Roaming\\nltk_data...\n",
      "[nltk_data]   Package wordnet is already up-to-date!\n",
      "[nltk_data] Downloading package averaged_perceptron_tagger to\n",
      "[nltk_data]     C:\\Users\\DELL\\AppData\\Roaming\\nltk_data...\n",
      "[nltk_data]   Package averaged_perceptron_tagger is already up-to-\n",
      "[nltk_data]       date!\n"
     ]
    },
    {
     "data": {
      "text/plain": [
       "True"
      ]
     },
     "execution_count": 79,
     "metadata": {},
     "output_type": "execute_result"
    }
   ],
   "source": [
    "from nltk.stem import WordNetLemmatizer\n",
    "\n",
    "# Download the WordNet lemmatizer data\n",
    "nltk.download('wordnet')\n",
    "nltk.download('averaged_perceptron_tagger')\n"
   ]
  },
  {
   "cell_type": "markdown",
   "id": "4cd97a75",
   "metadata": {},
   "source": [
    "Lemmatization :"
   ]
  },
  {
   "cell_type": "code",
   "execution_count": 80,
   "id": "f56d32a2",
   "metadata": {},
   "outputs": [],
   "source": [
    "import qalsadi.lemmatizer\n",
    "\n",
    "lemmer = qalsadi.lemmatizer.Lemmatizer()\n",
    "tokenizedd1=[]\n",
    "for sentence in tokenized1 :\n",
    "    phrase=[]\n",
    "    for words in sentence :\n",
    "        phrase.append(lemmer.lemmatize(words))\n",
    "    tokenizedd1.append(phrase)\n",
    "tokenizedd2=[]\n",
    "for sentence in tokenized2 :\n",
    "    phrase=[]\n",
    "    for words in sentence :\n",
    "        phrase.append(lemmer.lemmatize(words))\n",
    "    tokenizedd2.append(phrase)\n",
    "tokenizedd3=[]\n",
    "for sentence in tokenized3 :\n",
    "    phrase=[]\n",
    "    for words in sentence :\n",
    "        phrase.append(lemmer.lemmatize(words))\n",
    "    tokenizedd3.append(phrase)\n",
    "tokenizedd4=[]\n",
    "for sentence in tokenized4 :\n",
    "    phrase=[]\n",
    "    for words in sentence :\n",
    "        phrase.append(lemmer.lemmatize(words))\n",
    "    tokenizedd4.append(phrase)\n",
    "tokenizedd5=[]\n",
    "for sentence in tokenized5 :\n",
    "    phrase=[]\n",
    "    for words in sentence :\n",
    "        phrase.append(lemmer.lemmatize(words))\n",
    "    tokenizedd5.append(phrase)\n",
    "tokenizedd6=[]\n",
    "for sentence in tokenized6 :\n",
    "    phrase=[]\n",
    "    for words in sentence :\n",
    "        phrase.append(lemmer.lemmatize(words))\n",
    "    tokenizedd6.append(phrase)\n",
    "tokenizedd7=[]\n",
    "for sentence in tokenized7 :\n",
    "    phrase=[]\n",
    "    for words in sentence :\n",
    "        phrase.append(lemmer.lemmatize(words))\n",
    "    tokenizedd7.append(phrase)\n",
    "\n",
    "\n",
    "\n",
    "\n"
   ]
  },
  {
   "cell_type": "markdown",
   "id": "12d822d6",
   "metadata": {},
   "source": [
    "Embedding :"
   ]
  },
  {
   "cell_type": "code",
   "execution_count": 81,
   "id": "68347df4",
   "metadata": {},
   "outputs": [],
   "source": [
    "import gensim\n",
    "from gensim.models import Word2Vec\n",
    "model1 = Word2Vec(tokenizedd1, min_count=1)\n",
    "model2 = Word2Vec(tokenizedd2, min_count=1)\n",
    "model3 = Word2Vec(tokenizedd3, min_count=1)\n",
    "model4 = Word2Vec(tokenizedd4, min_count=1)\n",
    "model5 = Word2Vec(tokenizedd5, min_count=1)\n",
    "model6 = Word2Vec(tokenizedd6, min_count=1)\n",
    "model7 = Word2Vec(tokenizedd7, min_count=1)"
   ]
  },
  {
   "cell_type": "markdown",
   "id": "f3d168d6",
   "metadata": {},
   "source": [
    "Saving embedding models "
   ]
  },
  {
   "cell_type": "code",
   "execution_count": 82,
   "id": "9fbb360b",
   "metadata": {},
   "outputs": [],
   "source": [
    "model1.save(\"model1.h5\")\n",
    "model2.save(\"model2.h5\")\n",
    "model3.save(\"model3.h5\")\n",
    "model4.save(\"model4.h5\")\n",
    "model5.save(\"model5.h5\")\n",
    "model6.save(\"model6.h5\")\n",
    "model7.save(\"model7.h5\")"
   ]
  },
  {
   "cell_type": "markdown",
   "id": "e90a7b58",
   "metadata": {},
   "source": [
    "Transforming data to be trainable by the model :\n",
    "we're going to concatenate embedding of words of each sentence so that each sentence has its own array of embeddings\n",
    "and , since machine learning models takes only homogenous sizes of arrays , we're going to transform sentences to have the same \n",
    "size by adding the average of its embedding till the sentences have the same size , and finally the phrases will be ready to give to the machine learning algorithm to train on\n"
   ]
  },
  {
   "cell_type": "code",
   "execution_count": 83,
   "id": "d009c086",
   "metadata": {},
   "outputs": [],
   "source": [
    "embedded1=[]\n",
    "for sentence in tokenizedd1:\n",
    "    embedded1.append(model1.wv[sentence])\n",
    "embedded2=[]\n",
    "for sentence in tokenizedd2:\n",
    "    embedded2.append(model2.wv[sentence])\n",
    "embedded3=[]\n",
    "for sentence in tokenizedd3:\n",
    "    embedded3.append(model3.wv[sentence])\n",
    "embedded4=[]\n",
    "for sentence in tokenizedd4:\n",
    "    embedded4.append(model4.wv[sentence])\n",
    "embedded5=[]\n",
    "for sentence in tokenizedd5:\n",
    "    embedded5.append(model5.wv[sentence])\n",
    "embedded6=[]\n",
    "for sentence in tokenizedd6:\n",
    "    embedded6.append(model6.wv[sentence])\n",
    "embedded7=[]\n",
    "for sentence in tokenizedd7:\n",
    "    embedded7.append(model7.wv[sentence])"
   ]
  },
  {
   "cell_type": "code",
   "execution_count": 84,
   "id": "bc445e1e",
   "metadata": {},
   "outputs": [],
   "source": [
    "#to find the longest sentence\n",
    "def maxlen(liste):\n",
    "    maxl=0\n",
    "    for element in liste:\n",
    "        if (len(element)>maxl):\n",
    "            maxl=len(element)\n",
    "    return maxl\n",
    "moy=0\n",
    "#to add the average of embeddings to reach the size of the longest sentence for one sentence\n",
    "def completeLine(liste,maxlen):\n",
    "    moyenne=sum(liste)/len(liste)\n",
    "    moy=moyenne\n",
    "    new=[]\n",
    "    for a in liste:\n",
    "        new.append(a)\n",
    "    for i in range(len(liste),maxlen+1):\n",
    "        new.append(moyenne)\n",
    "    return new\n",
    "#to transform the sentence from 3D array to 2D array\n",
    "def transform2D (liste):\n",
    "    l=[]\n",
    "    for ligne in liste: \n",
    "        c=[]\n",
    "        for column in ligne:\n",
    "            for element in column:\n",
    "                c.append(element)\n",
    "                \n",
    "        l.append(c)\n",
    "    return l\n",
    "#to complete all sentences of one question \n",
    "def completeListe(liste):\n",
    "    result=[]\n",
    "    u=maxlen(liste)\n",
    "    m=maxlen(liste)\n",
    "#     print(liste)\n",
    "    for element in liste:\n",
    "        result.append(completeLine(element,u))\n",
    "        \n",
    "    return result\n",
    "u1=0\n",
    "u2=0\n",
    "u3=0\n",
    "u4=0\n",
    "u5=0\n",
    "u6=0\n",
    "u7=0\n",
    "new1=transform2D(embedded1)\n",
    "new2=transform2D(embedded2)\n",
    "new3=transform2D(embedded3)\n",
    "new4=transform2D(embedded4)\n",
    "new5=transform2D(embedded5)\n",
    "new6=transform2D(embedded6)\n",
    "new7=transform2D(embedded7)\n",
    "u1=maxlen(new1)\n",
    "u2=maxlen(new2)\n",
    "u3=maxlen(new3)\n",
    "u4=maxlen(new4)\n",
    "u5=maxlen(new5)\n",
    "u6=maxlen(new6)\n",
    "u7=maxlen(new7)\n",
    "result1=completeListe(new1)\n",
    "result2=completeListe(new2)\n",
    "result3=completeListe(new3)\n",
    "result4=completeListe(new4)\n",
    "result5=completeListe(new5)\n",
    "result6=completeListe(new6)\n",
    "result7=completeListe(new7)"
   ]
  },
  {
   "cell_type": "markdown",
   "id": "fc611fde",
   "metadata": {},
   "source": [
    "Transforming output to categorical data"
   ]
  },
  {
   "cell_type": "code",
   "execution_count": 85,
   "id": "5376b2af",
   "metadata": {},
   "outputs": [],
   "source": [
    "y1 = []\n",
    "for i in Y1:\n",
    "    y1.append(str(i))\n",
    "y2= []\n",
    "for i in Y2:\n",
    "    y2.append(str(i))\n",
    "y3 = []\n",
    "for i in Y3:\n",
    "    y3.append(str(i))\n",
    "y4 = []\n",
    "for i in Y4:\n",
    "    y4.append(str(i))\n",
    "y5 = []\n",
    "for i in Y5:\n",
    "    y5.append(str(i))\n",
    "y6 = []\n",
    "for i in Y6:\n",
    "    y6.append(str(i))\n",
    "y7 = []\n",
    "for i in Y7:\n",
    "    y7.append(str(i))"
   ]
  },
  {
   "cell_type": "markdown",
   "id": "832b07b7",
   "metadata": {},
   "source": [
    "Training phase :"
   ]
  },
  {
   "cell_type": "markdown",
   "id": "9e068635",
   "metadata": {},
   "source": [
    "splitting training and testing data "
   ]
  },
  {
   "cell_type": "code",
   "execution_count": 86,
   "id": "72c55180",
   "metadata": {},
   "outputs": [],
   "source": [
    "from sklearn.model_selection import train_test_split \n",
    "xtrain1, xtest1, ytrain1, ytest1 = train_test_split(result1,y1, test_size = 0.25, random_state = 0)\n",
    "xtrain2, xtest2, ytrain2, ytest2 = train_test_split(result2,y2, test_size = 0.25, random_state = 0)\n",
    "xtrain3, xtest3, ytrain3, ytest3 = train_test_split(result3,y3, test_size = 0.25, random_state = 0)\n",
    "xtrain4, xtest4, ytrain4, ytest4 = train_test_split(result4,y4, test_size = 0.25, random_state = 0)\n",
    "xtrain5, xtest5, ytrain5, ytest5 = train_test_split(result5,y5, test_size = 0.25, random_state = 0)\n",
    "xtrain6, xtest6, ytrain6, ytest6 = train_test_split(result6,y6, test_size = 0.25, random_state = 0)\n",
    "xtrain7, xtest7, ytrain7, ytest7 = train_test_split(result7,y7, test_size = 0.25, random_state = 0)\n"
   ]
  },
  {
   "cell_type": "markdown",
   "id": "9d0e5f82",
   "metadata": {},
   "source": [
    "Training and viewing the accuracy of algorithms for each question to choose the appropriate model for each question :"
   ]
  },
  {
   "cell_type": "code",
   "execution_count": 87,
   "id": "f0525776",
   "metadata": {},
   "outputs": [],
   "source": [
    "from sklearn.neighbors import KNeighborsClassifier\n",
    "from sklearn.svm import SVC\n",
    "from sklearn.naive_bayes import GaussianNB\n",
    "from sklearn.ensemble import RandomForestClassifier\n",
    "from sklearn.tree import DecisionTreeClassifier\n",
    "from sklearn import model_selection"
   ]
  },
  {
   "cell_type": "markdown",
   "id": "4ef77cbe",
   "metadata": {},
   "source": [
    "question 1:"
   ]
  },
  {
   "cell_type": "code",
   "execution_count": 88,
   "id": "29793e2a",
   "metadata": {},
   "outputs": [
    {
     "name": "stderr",
     "output_type": "stream",
     "text": [
      "C:\\Users\\DELL\\anaconda3\\lib\\site-packages\\sklearn\\neighbors\\_classification.py:228: FutureWarning: Unlike other reduction functions (e.g. `skew`, `kurtosis`), the default behavior of `mode` typically preserves the axis it acts along. In SciPy 1.11.0, this behavior will change: the default value of `keepdims` will become False, the `axis` over which the statistic is taken will be eliminated, and the value None will no longer be accepted. Set `keepdims` to True or False to avoid this warning.\n",
      "  mode, _ = stats.mode(_y[neigh_ind, k], axis=1)\n",
      "C:\\Users\\DELL\\anaconda3\\lib\\site-packages\\sklearn\\neighbors\\_classification.py:228: FutureWarning: Unlike other reduction functions (e.g. `skew`, `kurtosis`), the default behavior of `mode` typically preserves the axis it acts along. In SciPy 1.11.0, this behavior will change: the default value of `keepdims` will become False, the `axis` over which the statistic is taken will be eliminated, and the value None will no longer be accepted. Set `keepdims` to True or False to avoid this warning.\n",
      "  mode, _ = stats.mode(_y[neigh_ind, k], axis=1)\n",
      "C:\\Users\\DELL\\anaconda3\\lib\\site-packages\\sklearn\\neighbors\\_classification.py:228: FutureWarning: Unlike other reduction functions (e.g. `skew`, `kurtosis`), the default behavior of `mode` typically preserves the axis it acts along. In SciPy 1.11.0, this behavior will change: the default value of `keepdims` will become False, the `axis` over which the statistic is taken will be eliminated, and the value None will no longer be accepted. Set `keepdims` to True or False to avoid this warning.\n",
      "  mode, _ = stats.mode(_y[neigh_ind, k], axis=1)\n",
      "C:\\Users\\DELL\\anaconda3\\lib\\site-packages\\sklearn\\neighbors\\_classification.py:228: FutureWarning: Unlike other reduction functions (e.g. `skew`, `kurtosis`), the default behavior of `mode` typically preserves the axis it acts along. In SciPy 1.11.0, this behavior will change: the default value of `keepdims` will become False, the `axis` over which the statistic is taken will be eliminated, and the value None will no longer be accepted. Set `keepdims` to True or False to avoid this warning.\n",
      "  mode, _ = stats.mode(_y[neigh_ind, k], axis=1)\n",
      "C:\\Users\\DELL\\anaconda3\\lib\\site-packages\\sklearn\\neighbors\\_classification.py:228: FutureWarning: Unlike other reduction functions (e.g. `skew`, `kurtosis`), the default behavior of `mode` typically preserves the axis it acts along. In SciPy 1.11.0, this behavior will change: the default value of `keepdims` will become False, the `axis` over which the statistic is taken will be eliminated, and the value None will no longer be accepted. Set `keepdims` to True or False to avoid this warning.\n",
      "  mode, _ = stats.mode(_y[neigh_ind, k], axis=1)\n",
      "C:\\Users\\DELL\\anaconda3\\lib\\site-packages\\sklearn\\neighbors\\_classification.py:228: FutureWarning: Unlike other reduction functions (e.g. `skew`, `kurtosis`), the default behavior of `mode` typically preserves the axis it acts along. In SciPy 1.11.0, this behavior will change: the default value of `keepdims` will become False, the `axis` over which the statistic is taken will be eliminated, and the value None will no longer be accepted. Set `keepdims` to True or False to avoid this warning.\n",
      "  mode, _ = stats.mode(_y[neigh_ind, k], axis=1)\n"
     ]
    },
    {
     "name": "stdout",
     "output_type": "stream",
     "text": [
      "accuracy of KNN 1 :0.53731884057971\n",
      "accuracy of linear SVM 1 :0.3782608695652174\n",
      "accuracy of sigmoid SVM 1 :0.5800724637681159\n",
      "accuracy of polynomial SVM 1 :0.497463768115942\n",
      "accuracy of Naive Bayes 1 :0.5380434782608695\n",
      "accuracy of RandomForest 1 :0.6557971014492753\n",
      "accuracy of Decision Tree 1:0.5815217391304348\n"
     ]
    }
   ],
   "source": [
    "\n",
    "#KNN \n",
    "modelKNN1=KNeighborsClassifier(n_neighbors=3)\n",
    "modelKNN1.fit(xtrain1, ytrain1)\n",
    "ypred1=modelKNN1.predict(xtest1)\n",
    "results1 = model_selection.cross_val_score(modelKNN1,result1,y1, scoring=\"accuracy\")\n",
    "print(\"accuracy of KNN 1 :\"+str(results1.mean()))\n",
    "#Linear SVM\n",
    "classifier1 = SVC(kernel='linear', random_state=0)\n",
    "classifier1.fit(xtrain1, ytrain1)\n",
    "ypred1=classifier1.predict(xtest1)\n",
    "results1 = model_selection.cross_val_score(classifier1, result1,y1, scoring=\"accuracy\")\n",
    "print(\"accuracy of linear SVM 1 :\"+str(results1.mean()))\n",
    "#SVM SIGMOID\n",
    "classifier1 = SVC(kernel='sigmoid', random_state=0)\n",
    "classifier1.fit(xtrain1, ytrain1)\n",
    "ypred1=classifier1.predict(xtest1)\n",
    "results1 = model_selection.cross_val_score(classifier1, result1,y1, scoring=\"accuracy\")\n",
    "print(\"accuracy of sigmoid SVM 1 :\"+str(results1.mean()))\n",
    "#Polynomial SVM\n",
    "classifier1 = SVC(kernel='poly', random_state=0)\n",
    "classifier1.fit(xtrain1, ytrain1)\n",
    "ypred1=classifier1.predict(xtest1)\n",
    "results1 = model_selection.cross_val_score(classifier1, result1,y1, scoring=\"accuracy\")\n",
    "print(\"accuracy of polynomial SVM 1 :\"+str(results1.mean()))\n",
    "#Naive Bayes\n",
    "modelNB1 = GaussianNB()\n",
    "modelNB1.fit(xtrain1, ytrain1)\n",
    "ypred1=modelNB1.predict(xtest1)\n",
    "results1 = model_selection.cross_val_score(modelNB1,result1,y1, scoring=\"accuracy\")\n",
    "print(\"accuracy of Naive Bayes 1 :\"+str(results1.mean()))\n",
    "#Random Forest\n",
    "rf_classifier1 = RandomForestClassifier(n_estimators=100, random_state=42)\n",
    "rf_classifier1.fit(xtrain1, ytrain1)\n",
    "ypred1 = rf_classifier1.predict(xtest1)\n",
    "results1 = model_selection.cross_val_score(rf_classifier1,result1,y1, scoring=\"accuracy\")\n",
    "print(\"accuracy of RandomForest 1 :\"+str(results1.mean()))\n",
    "#Decision Tree\n",
    "clf1 = DecisionTreeClassifier(criterion=\"entropy\", max_depth=2)\n",
    "clf1.fit(xtrain1,ytrain1)\n",
    "ypred1=clf1.predict(xtest1)\n",
    "results1 = model_selection.cross_val_score(clf1,result1,y1, scoring=\"accuracy\")\n",
    "print(\"accuracy of Decision Tree 1:\"+str(results1.mean()))\n"
   ]
  },
  {
   "cell_type": "markdown",
   "id": "d6fa4aba",
   "metadata": {},
   "source": [
    "Since the Random Forest algorithm has the highest accuracy we'll save it to predict inputs of future answers "
   ]
  },
  {
   "cell_type": "markdown",
   "id": "94a5e482",
   "metadata": {},
   "source": [
    "Model saving"
   ]
  },
  {
   "cell_type": "code",
   "execution_count": 89,
   "id": "688f6df1",
   "metadata": {},
   "outputs": [],
   "source": [
    "import pickle\n",
    "with open(\"models/model1.pkl\", 'wb') as file:\n",
    "    pickle.dump(rf_classifier1, file)"
   ]
  },
  {
   "cell_type": "markdown",
   "id": "4e5857ca",
   "metadata": {},
   "source": [
    "question 2 :"
   ]
  },
  {
   "cell_type": "code",
   "execution_count": 90,
   "id": "72ddd6ee",
   "metadata": {},
   "outputs": [
    {
     "name": "stderr",
     "output_type": "stream",
     "text": [
      "C:\\Users\\DELL\\anaconda3\\lib\\site-packages\\sklearn\\neighbors\\_classification.py:228: FutureWarning: Unlike other reduction functions (e.g. `skew`, `kurtosis`), the default behavior of `mode` typically preserves the axis it acts along. In SciPy 1.11.0, this behavior will change: the default value of `keepdims` will become False, the `axis` over which the statistic is taken will be eliminated, and the value None will no longer be accepted. Set `keepdims` to True or False to avoid this warning.\n",
      "  mode, _ = stats.mode(_y[neigh_ind, k], axis=1)\n",
      "C:\\Users\\DELL\\anaconda3\\lib\\site-packages\\sklearn\\neighbors\\_classification.py:228: FutureWarning: Unlike other reduction functions (e.g. `skew`, `kurtosis`), the default behavior of `mode` typically preserves the axis it acts along. In SciPy 1.11.0, this behavior will change: the default value of `keepdims` will become False, the `axis` over which the statistic is taken will be eliminated, and the value None will no longer be accepted. Set `keepdims` to True or False to avoid this warning.\n",
      "  mode, _ = stats.mode(_y[neigh_ind, k], axis=1)\n",
      "C:\\Users\\DELL\\anaconda3\\lib\\site-packages\\sklearn\\neighbors\\_classification.py:228: FutureWarning: Unlike other reduction functions (e.g. `skew`, `kurtosis`), the default behavior of `mode` typically preserves the axis it acts along. In SciPy 1.11.0, this behavior will change: the default value of `keepdims` will become False, the `axis` over which the statistic is taken will be eliminated, and the value None will no longer be accepted. Set `keepdims` to True or False to avoid this warning.\n",
      "  mode, _ = stats.mode(_y[neigh_ind, k], axis=1)\n",
      "C:\\Users\\DELL\\anaconda3\\lib\\site-packages\\sklearn\\neighbors\\_classification.py:228: FutureWarning: Unlike other reduction functions (e.g. `skew`, `kurtosis`), the default behavior of `mode` typically preserves the axis it acts along. In SciPy 1.11.0, this behavior will change: the default value of `keepdims` will become False, the `axis` over which the statistic is taken will be eliminated, and the value None will no longer be accepted. Set `keepdims` to True or False to avoid this warning.\n",
      "  mode, _ = stats.mode(_y[neigh_ind, k], axis=1)\n",
      "C:\\Users\\DELL\\anaconda3\\lib\\site-packages\\sklearn\\neighbors\\_classification.py:228: FutureWarning: Unlike other reduction functions (e.g. `skew`, `kurtosis`), the default behavior of `mode` typically preserves the axis it acts along. In SciPy 1.11.0, this behavior will change: the default value of `keepdims` will become False, the `axis` over which the statistic is taken will be eliminated, and the value None will no longer be accepted. Set `keepdims` to True or False to avoid this warning.\n",
      "  mode, _ = stats.mode(_y[neigh_ind, k], axis=1)\n",
      "C:\\Users\\DELL\\anaconda3\\lib\\site-packages\\sklearn\\neighbors\\_classification.py:228: FutureWarning: Unlike other reduction functions (e.g. `skew`, `kurtosis`), the default behavior of `mode` typically preserves the axis it acts along. In SciPy 1.11.0, this behavior will change: the default value of `keepdims` will become False, the `axis` over which the statistic is taken will be eliminated, and the value None will no longer be accepted. Set `keepdims` to True or False to avoid this warning.\n",
      "  mode, _ = stats.mode(_y[neigh_ind, k], axis=1)\n"
     ]
    },
    {
     "name": "stdout",
     "output_type": "stream",
     "text": [
      "accuracy of KNN 2 :0.4929032258064516\n",
      "accuracy of linear SVM 2 :0.33720430107526883\n",
      "accuracy of sigmoid SVM 2 :0.5053763440860215\n",
      "accuracy of polynomial SVM 2 :0.5195698924731182\n",
      "accuracy of Naive Bayes 2 :0.3767741935483871\n",
      "accuracy of RandomForest 2 :0.5774193548387097\n",
      "accuracy of Decision Tree 2:0.4017204301075269\n"
     ]
    }
   ],
   "source": [
    "\n",
    "#KNN \n",
    "modelKNN2=KNeighborsClassifier(n_neighbors=3)\n",
    "modelKNN2.fit(xtrain2, ytrain2)\n",
    "ypred2=modelKNN2.predict(xtest2)\n",
    "results2 = model_selection.cross_val_score(modelKNN2,result2,y2, scoring=\"accuracy\")\n",
    "print(\"accuracy of KNN 2 :\"+str(results2.mean()))\n",
    "#Linear SVM\n",
    "classifier2 = SVC(kernel='linear', random_state=0)\n",
    "classifier2.fit(xtrain2, ytrain2)\n",
    "ypred2=classifier2.predict(xtest2)\n",
    "results2 = model_selection.cross_val_score(classifier2, result2,y2, scoring=\"accuracy\")\n",
    "print(\"accuracy of linear SVM 2 :\"+str(results2.mean()))\n",
    "#SVM SIGMOID\n",
    "classifier2 = SVC(kernel='sigmoid', random_state=0)\n",
    "classifier2.fit(xtrain2, ytrain2)\n",
    "ypred2=classifier2.predict(xtest2)\n",
    "results2 = model_selection.cross_val_score(classifier2, result2,y2, scoring=\"accuracy\")\n",
    "print(\"accuracy of sigmoid SVM 2 :\"+str(results2.mean()))\n",
    "#Polynomial SVM\n",
    "classifier2 = SVC(kernel='poly', random_state=0)\n",
    "classifier2.fit(xtrain2, ytrain2)\n",
    "ypred2=classifier2.predict(xtest2)\n",
    "results2 = model_selection.cross_val_score(classifier2, result2,y2, scoring=\"accuracy\")\n",
    "print(\"accuracy of polynomial SVM 2 :\"+str(results2.mean()))\n",
    "#Naive Bayes\n",
    "modelNB2 = GaussianNB()\n",
    "modelNB2.fit(xtrain2, ytrain2)\n",
    "ypred2=modelNB2.predict(xtest2)\n",
    "results2 = model_selection.cross_val_score(modelNB2,result2,y2, scoring=\"accuracy\")\n",
    "print(\"accuracy of Naive Bayes 2 :\"+str(results2.mean()))\n",
    "#Random Forest\n",
    "rf_classifier2 = RandomForestClassifier(n_estimators=100, random_state=42)\n",
    "rf_classifier2.fit(xtrain2, ytrain2)\n",
    "ypred2 = rf_classifier2.predict(xtest2)\n",
    "results2 = model_selection.cross_val_score(rf_classifier2,result2,y2, scoring=\"accuracy\")\n",
    "print(\"accuracy of RandomForest 2 :\"+str(results2.mean()))\n",
    "#Decision Tree\n",
    "clf2 = DecisionTreeClassifier(criterion=\"entropy\", max_depth=2)\n",
    "clf2.fit(xtrain2,ytrain2)\n",
    "ypred2=clf2.predict(xtest2)\n",
    "results2 = model_selection.cross_val_score(clf2,result2,y2, scoring=\"accuracy\")\n",
    "print(\"accuracy of Decision Tree 2:\"+str(results2.mean()))\n"
   ]
  },
  {
   "cell_type": "markdown",
   "id": "5fd62eca",
   "metadata": {},
   "source": [
    "We can see that polynomial svm worked better for this question , so we save it as model2"
   ]
  },
  {
   "cell_type": "code",
   "execution_count": 91,
   "id": "e30131fa",
   "metadata": {},
   "outputs": [],
   "source": [
    "import pickle\n",
    "with open(\"models/model2.pkl\", 'wb') as file:\n",
    "    pickle.dump(rf_classifier2, file)"
   ]
  },
  {
   "cell_type": "markdown",
   "id": "d987c1b7",
   "metadata": {},
   "source": [
    "Question 3:"
   ]
  },
  {
   "cell_type": "code",
   "execution_count": 92,
   "id": "78dbcad3",
   "metadata": {},
   "outputs": [
    {
     "name": "stderr",
     "output_type": "stream",
     "text": [
      "C:\\Users\\DELL\\anaconda3\\lib\\site-packages\\sklearn\\neighbors\\_classification.py:228: FutureWarning: Unlike other reduction functions (e.g. `skew`, `kurtosis`), the default behavior of `mode` typically preserves the axis it acts along. In SciPy 1.11.0, this behavior will change: the default value of `keepdims` will become False, the `axis` over which the statistic is taken will be eliminated, and the value None will no longer be accepted. Set `keepdims` to True or False to avoid this warning.\n",
      "  mode, _ = stats.mode(_y[neigh_ind, k], axis=1)\n",
      "C:\\Users\\DELL\\anaconda3\\lib\\site-packages\\sklearn\\neighbors\\_classification.py:228: FutureWarning: Unlike other reduction functions (e.g. `skew`, `kurtosis`), the default behavior of `mode` typically preserves the axis it acts along. In SciPy 1.11.0, this behavior will change: the default value of `keepdims` will become False, the `axis` over which the statistic is taken will be eliminated, and the value None will no longer be accepted. Set `keepdims` to True or False to avoid this warning.\n",
      "  mode, _ = stats.mode(_y[neigh_ind, k], axis=1)\n",
      "C:\\Users\\DELL\\anaconda3\\lib\\site-packages\\sklearn\\neighbors\\_classification.py:228: FutureWarning: Unlike other reduction functions (e.g. `skew`, `kurtosis`), the default behavior of `mode` typically preserves the axis it acts along. In SciPy 1.11.0, this behavior will change: the default value of `keepdims` will become False, the `axis` over which the statistic is taken will be eliminated, and the value None will no longer be accepted. Set `keepdims` to True or False to avoid this warning.\n",
      "  mode, _ = stats.mode(_y[neigh_ind, k], axis=1)\n",
      "C:\\Users\\DELL\\anaconda3\\lib\\site-packages\\sklearn\\neighbors\\_classification.py:228: FutureWarning: Unlike other reduction functions (e.g. `skew`, `kurtosis`), the default behavior of `mode` typically preserves the axis it acts along. In SciPy 1.11.0, this behavior will change: the default value of `keepdims` will become False, the `axis` over which the statistic is taken will be eliminated, and the value None will no longer be accepted. Set `keepdims` to True or False to avoid this warning.\n",
      "  mode, _ = stats.mode(_y[neigh_ind, k], axis=1)\n",
      "C:\\Users\\DELL\\anaconda3\\lib\\site-packages\\sklearn\\neighbors\\_classification.py:228: FutureWarning: Unlike other reduction functions (e.g. `skew`, `kurtosis`), the default behavior of `mode` typically preserves the axis it acts along. In SciPy 1.11.0, this behavior will change: the default value of `keepdims` will become False, the `axis` over which the statistic is taken will be eliminated, and the value None will no longer be accepted. Set `keepdims` to True or False to avoid this warning.\n",
      "  mode, _ = stats.mode(_y[neigh_ind, k], axis=1)\n",
      "C:\\Users\\DELL\\anaconda3\\lib\\site-packages\\sklearn\\neighbors\\_classification.py:228: FutureWarning: Unlike other reduction functions (e.g. `skew`, `kurtosis`), the default behavior of `mode` typically preserves the axis it acts along. In SciPy 1.11.0, this behavior will change: the default value of `keepdims` will become False, the `axis` over which the statistic is taken will be eliminated, and the value None will no longer be accepted. Set `keepdims` to True or False to avoid this warning.\n",
      "  mode, _ = stats.mode(_y[neigh_ind, k], axis=1)\n"
     ]
    },
    {
     "name": "stdout",
     "output_type": "stream",
     "text": [
      "accuracy of KNN 3 :0.6821505376344087\n",
      "accuracy of linear SVM 3 :0.415483870967742\n",
      "accuracy of sigmoid SVM 3 :0.4946236559139785\n",
      "accuracy of polynomial SVM 3 :0.6230107526881719\n",
      "accuracy of Naive Bayes 3 :0.507741935483871\n",
      "accuracy of RandomForest 3 :0.6950537634408602\n",
      "accuracy of Decision Tree 3:0.687741935483871\n"
     ]
    }
   ],
   "source": [
    "\n",
    "#KNN \n",
    "modelKNN3=KNeighborsClassifier(n_neighbors=3)\n",
    "modelKNN3.fit(xtrain3, ytrain3)\n",
    "ypred3=modelKNN3.predict(xtest3)\n",
    "results3 = model_selection.cross_val_score(modelKNN3,result3,y3, scoring=\"accuracy\")\n",
    "print(\"accuracy of KNN 3 :\"+str(results3.mean()))\n",
    "#Linear SVM\n",
    "classifier3 = SVC(kernel='linear', random_state=0)\n",
    "classifier3.fit(xtrain3, ytrain3)\n",
    "ypred3=classifier3.predict(xtest3)\n",
    "results3 = model_selection.cross_val_score(classifier3, result3,y3, scoring=\"accuracy\")\n",
    "print(\"accuracy of linear SVM 3 :\"+str(results3.mean()))\n",
    "#SVM SIGMOID\n",
    "classifier3 = SVC(kernel='sigmoid', random_state=0)\n",
    "classifier3.fit(xtrain3, ytrain3)\n",
    "ypred3=classifier3.predict(xtest3)\n",
    "results3 = model_selection.cross_val_score(classifier3, result3,y3, scoring=\"accuracy\")\n",
    "print(\"accuracy of sigmoid SVM 3 :\"+str(results3.mean()))\n",
    "#Polynomial SVM\n",
    "classifier3 = SVC(kernel='poly', random_state=0)\n",
    "classifier3.fit(xtrain3, ytrain3)\n",
    "ypred3=classifier3.predict(xtest3)\n",
    "results3 = model_selection.cross_val_score(classifier3, result3,y3, scoring=\"accuracy\")\n",
    "print(\"accuracy of polynomial SVM 3 :\"+str(results3.mean()))\n",
    "#Naive Bayes\n",
    "modelNB3 = GaussianNB()\n",
    "modelNB3.fit(xtrain3, ytrain3)\n",
    "ypred3=modelNB3.predict(xtest3)\n",
    "results3 = model_selection.cross_val_score(modelNB3,result3,y3, scoring=\"accuracy\")\n",
    "print(\"accuracy of Naive Bayes 3 :\"+str(results3.mean()))\n",
    "#Random Forest\n",
    "rf_classifier3 = RandomForestClassifier(n_estimators=100, random_state=42)\n",
    "rf_classifier3.fit(xtrain3, ytrain3)\n",
    "ypred3 = rf_classifier3.predict(xtest3)\n",
    "results3 = model_selection.cross_val_score(rf_classifier3,result3,y3, scoring=\"accuracy\")\n",
    "print(\"accuracy of RandomForest 3 :\"+str(results3.mean()))\n",
    "#Decision Tree\n",
    "clf3 = DecisionTreeClassifier(criterion=\"entropy\", max_depth=2)\n",
    "clf3.fit(xtrain3,ytrain3)\n",
    "ypred3=clf3.predict(xtest3)\n",
    "results3 = model_selection.cross_val_score(clf3,result3,y3, scoring=\"accuracy\")\n",
    "print(\"accuracy of Decision Tree 3:\"+str(results3.mean()))\n"
   ]
  },
  {
   "cell_type": "markdown",
   "id": "8fd839ac",
   "metadata": {},
   "source": [
    "We noticed that random forest gave us highestaccuracy as , so we're saving its model as model3"
   ]
  },
  {
   "cell_type": "code",
   "execution_count": 93,
   "id": "5f22f2ed",
   "metadata": {},
   "outputs": [],
   "source": [
    "with open(\"models/model3.pkl\", 'wb') as file:\n",
    "    pickle.dump(rf_classifier3, file)"
   ]
  },
  {
   "cell_type": "markdown",
   "id": "3825fec9",
   "metadata": {},
   "source": [
    "Question 4  :"
   ]
  },
  {
   "cell_type": "code",
   "execution_count": 94,
   "id": "4d93ea6e",
   "metadata": {},
   "outputs": [
    {
     "name": "stderr",
     "output_type": "stream",
     "text": [
      "C:\\Users\\DELL\\anaconda3\\lib\\site-packages\\sklearn\\neighbors\\_classification.py:228: FutureWarning: Unlike other reduction functions (e.g. `skew`, `kurtosis`), the default behavior of `mode` typically preserves the axis it acts along. In SciPy 1.11.0, this behavior will change: the default value of `keepdims` will become False, the `axis` over which the statistic is taken will be eliminated, and the value None will no longer be accepted. Set `keepdims` to True or False to avoid this warning.\n",
      "  mode, _ = stats.mode(_y[neigh_ind, k], axis=1)\n",
      "C:\\Users\\DELL\\anaconda3\\lib\\site-packages\\sklearn\\neighbors\\_classification.py:228: FutureWarning: Unlike other reduction functions (e.g. `skew`, `kurtosis`), the default behavior of `mode` typically preserves the axis it acts along. In SciPy 1.11.0, this behavior will change: the default value of `keepdims` will become False, the `axis` over which the statistic is taken will be eliminated, and the value None will no longer be accepted. Set `keepdims` to True or False to avoid this warning.\n",
      "  mode, _ = stats.mode(_y[neigh_ind, k], axis=1)\n",
      "C:\\Users\\DELL\\anaconda3\\lib\\site-packages\\sklearn\\neighbors\\_classification.py:228: FutureWarning: Unlike other reduction functions (e.g. `skew`, `kurtosis`), the default behavior of `mode` typically preserves the axis it acts along. In SciPy 1.11.0, this behavior will change: the default value of `keepdims` will become False, the `axis` over which the statistic is taken will be eliminated, and the value None will no longer be accepted. Set `keepdims` to True or False to avoid this warning.\n",
      "  mode, _ = stats.mode(_y[neigh_ind, k], axis=1)\n",
      "C:\\Users\\DELL\\anaconda3\\lib\\site-packages\\sklearn\\neighbors\\_classification.py:228: FutureWarning: Unlike other reduction functions (e.g. `skew`, `kurtosis`), the default behavior of `mode` typically preserves the axis it acts along. In SciPy 1.11.0, this behavior will change: the default value of `keepdims` will become False, the `axis` over which the statistic is taken will be eliminated, and the value None will no longer be accepted. Set `keepdims` to True or False to avoid this warning.\n",
      "  mode, _ = stats.mode(_y[neigh_ind, k], axis=1)\n",
      "C:\\Users\\DELL\\anaconda3\\lib\\site-packages\\sklearn\\neighbors\\_classification.py:228: FutureWarning: Unlike other reduction functions (e.g. `skew`, `kurtosis`), the default behavior of `mode` typically preserves the axis it acts along. In SciPy 1.11.0, this behavior will change: the default value of `keepdims` will become False, the `axis` over which the statistic is taken will be eliminated, and the value None will no longer be accepted. Set `keepdims` to True or False to avoid this warning.\n",
      "  mode, _ = stats.mode(_y[neigh_ind, k], axis=1)\n",
      "C:\\Users\\DELL\\anaconda3\\lib\\site-packages\\sklearn\\neighbors\\_classification.py:228: FutureWarning: Unlike other reduction functions (e.g. `skew`, `kurtosis`), the default behavior of `mode` typically preserves the axis it acts along. In SciPy 1.11.0, this behavior will change: the default value of `keepdims` will become False, the `axis` over which the statistic is taken will be eliminated, and the value None will no longer be accepted. Set `keepdims` to True or False to avoid this warning.\n",
      "  mode, _ = stats.mode(_y[neigh_ind, k], axis=1)\n"
     ]
    },
    {
     "name": "stdout",
     "output_type": "stream",
     "text": [
      "accuracy of KNN 4 :0.4685714285714285\n",
      "accuracy of linear SVM 4 :0.4704761904761905\n",
      "accuracy of sigmoid SVM 4 :0.3904761904761905\n",
      "accuracy of polynomial SVM 4 :0.4395238095238095\n",
      "accuracy of Naive Bayes 4 :0.36904761904761907\n",
      "accuracy of RandomForest 4 :0.4980952380952381\n",
      "accuracy of Decision Tree 4:0.36047619047619045\n"
     ]
    }
   ],
   "source": [
    "\n",
    "#KNN \n",
    "modelKNN4=KNeighborsClassifier(n_neighbors=3)\n",
    "modelKNN4.fit(xtrain4, ytrain4)\n",
    "ypred4=modelKNN4.predict(xtest4)\n",
    "results4 = model_selection.cross_val_score(modelKNN4,result4,y4, scoring=\"accuracy\")\n",
    "print(\"accuracy of KNN 4 :\"+str(results4.mean()))\n",
    "#Linear SVM\n",
    "classifier4 = SVC(kernel='linear', random_state=0)\n",
    "classifier4.fit(xtrain4, ytrain4)\n",
    "ypred4=classifier4.predict(xtest4)\n",
    "results4 = model_selection.cross_val_score(classifier4, result4,y4, scoring=\"accuracy\")\n",
    "print(\"accuracy of linear SVM 4 :\"+str(results4.mean()))\n",
    "#SVM SIGMOID\n",
    "classifier4 = SVC(kernel='sigmoid', random_state=0)\n",
    "classifier4.fit(xtrain4, ytrain4)\n",
    "ypred4=classifier4.predict(xtest4)\n",
    "results4 = model_selection.cross_val_score(classifier4, result4,y4, scoring=\"accuracy\")\n",
    "print(\"accuracy of sigmoid SVM 4 :\"+str(results4.mean()))\n",
    "#Polynomial SVM\n",
    "classifier4 = SVC(kernel='poly', random_state=0)\n",
    "classifier4.fit(xtrain4, ytrain4)\n",
    "ypred4=classifier4.predict(xtest4)\n",
    "results4 = model_selection.cross_val_score(classifier4, result4,y4, scoring=\"accuracy\")\n",
    "print(\"accuracy of polynomial SVM 4 :\"+str(results4.mean()))\n",
    "#Naive Bayes\n",
    "modelNB4 = GaussianNB()\n",
    "modelNB4.fit(xtrain4, ytrain4)\n",
    "ypred4=modelNB4.predict(xtest4)\n",
    "results4 = model_selection.cross_val_score(modelNB4,result4,y4, scoring=\"accuracy\")\n",
    "print(\"accuracy of Naive Bayes 4 :\"+str(results4.mean()))\n",
    "#Random Forest\n",
    "rf_classifier4 = RandomForestClassifier(n_estimators=100, random_state=42)\n",
    "rf_classifier4.fit(xtrain4, ytrain4)\n",
    "ypred4 = rf_classifier4.predict(xtest4)\n",
    "results4 = model_selection.cross_val_score(rf_classifier4,result4,y4, scoring=\"accuracy\")\n",
    "print(\"accuracy of RandomForest 4 :\"+str(results4.mean()))\n",
    "#Decision Tree\n",
    "clf4 = DecisionTreeClassifier(criterion=\"entropy\", max_depth=2)\n",
    "clf4.fit(xtrain4,ytrain4)\n",
    "ypred4=clf4.predict(xtest4)\n",
    "results4 = model_selection.cross_val_score(clf4,result4,y4, scoring=\"accuracy\")\n",
    "print(\"accuracy of Decision Tree 4:\"+str(results4.mean()))\n"
   ]
  },
  {
   "cell_type": "markdown",
   "id": "6135111b",
   "metadata": {},
   "source": [
    "Linear SVM is the most optimal for this question"
   ]
  },
  {
   "cell_type": "code",
   "execution_count": 95,
   "id": "865e456b",
   "metadata": {},
   "outputs": [],
   "source": [
    "with open(\"models/model4.pkl\", 'wb') as file:\n",
    "    pickle.dump( rf_classifier4, file)"
   ]
  },
  {
   "cell_type": "markdown",
   "id": "3d43b921",
   "metadata": {},
   "source": [
    "Question 5:"
   ]
  },
  {
   "cell_type": "code",
   "execution_count": 96,
   "id": "66711dd6",
   "metadata": {},
   "outputs": [
    {
     "name": "stderr",
     "output_type": "stream",
     "text": [
      "C:\\Users\\DELL\\anaconda3\\lib\\site-packages\\sklearn\\neighbors\\_classification.py:228: FutureWarning: Unlike other reduction functions (e.g. `skew`, `kurtosis`), the default behavior of `mode` typically preserves the axis it acts along. In SciPy 1.11.0, this behavior will change: the default value of `keepdims` will become False, the `axis` over which the statistic is taken will be eliminated, and the value None will no longer be accepted. Set `keepdims` to True or False to avoid this warning.\n",
      "  mode, _ = stats.mode(_y[neigh_ind, k], axis=1)\n",
      "C:\\Users\\DELL\\anaconda3\\lib\\site-packages\\sklearn\\neighbors\\_classification.py:228: FutureWarning: Unlike other reduction functions (e.g. `skew`, `kurtosis`), the default behavior of `mode` typically preserves the axis it acts along. In SciPy 1.11.0, this behavior will change: the default value of `keepdims` will become False, the `axis` over which the statistic is taken will be eliminated, and the value None will no longer be accepted. Set `keepdims` to True or False to avoid this warning.\n",
      "  mode, _ = stats.mode(_y[neigh_ind, k], axis=1)\n",
      "C:\\Users\\DELL\\anaconda3\\lib\\site-packages\\sklearn\\neighbors\\_classification.py:228: FutureWarning: Unlike other reduction functions (e.g. `skew`, `kurtosis`), the default behavior of `mode` typically preserves the axis it acts along. In SciPy 1.11.0, this behavior will change: the default value of `keepdims` will become False, the `axis` over which the statistic is taken will be eliminated, and the value None will no longer be accepted. Set `keepdims` to True or False to avoid this warning.\n",
      "  mode, _ = stats.mode(_y[neigh_ind, k], axis=1)\n",
      "C:\\Users\\DELL\\anaconda3\\lib\\site-packages\\sklearn\\neighbors\\_classification.py:228: FutureWarning: Unlike other reduction functions (e.g. `skew`, `kurtosis`), the default behavior of `mode` typically preserves the axis it acts along. In SciPy 1.11.0, this behavior will change: the default value of `keepdims` will become False, the `axis` over which the statistic is taken will be eliminated, and the value None will no longer be accepted. Set `keepdims` to True or False to avoid this warning.\n",
      "  mode, _ = stats.mode(_y[neigh_ind, k], axis=1)\n",
      "C:\\Users\\DELL\\anaconda3\\lib\\site-packages\\sklearn\\neighbors\\_classification.py:228: FutureWarning: Unlike other reduction functions (e.g. `skew`, `kurtosis`), the default behavior of `mode` typically preserves the axis it acts along. In SciPy 1.11.0, this behavior will change: the default value of `keepdims` will become False, the `axis` over which the statistic is taken will be eliminated, and the value None will no longer be accepted. Set `keepdims` to True or False to avoid this warning.\n",
      "  mode, _ = stats.mode(_y[neigh_ind, k], axis=1)\n",
      "C:\\Users\\DELL\\anaconda3\\lib\\site-packages\\sklearn\\neighbors\\_classification.py:228: FutureWarning: Unlike other reduction functions (e.g. `skew`, `kurtosis`), the default behavior of `mode` typically preserves the axis it acts along. In SciPy 1.11.0, this behavior will change: the default value of `keepdims` will become False, the `axis` over which the statistic is taken will be eliminated, and the value None will no longer be accepted. Set `keepdims` to True or False to avoid this warning.\n",
      "  mode, _ = stats.mode(_y[neigh_ind, k], axis=1)\n"
     ]
    },
    {
     "name": "stdout",
     "output_type": "stream",
     "text": [
      "accuracy of KNN 5 :0.6843697478991597\n",
      "accuracy of linear SVM 5 :0.44268907563025206\n",
      "accuracy of sigmoid SVM 5 :0.6673949579831933\n",
      "accuracy of polynomial SVM 5 :0.7702521008403361\n",
      "accuracy of Naive Bayes 5 :0.5228571428571429\n",
      "accuracy of RandomForest 5 :0.7189915966386554\n",
      "accuracy of Decision Tree 5:0.7647058823529411\n"
     ]
    }
   ],
   "source": [
    "\n",
    "#KNN \n",
    "modelKNN5=KNeighborsClassifier(n_neighbors=3)\n",
    "modelKNN5.fit(xtrain5, ytrain5)\n",
    "ypred5=modelKNN5.predict(xtest5)\n",
    "results5 = model_selection.cross_val_score(modelKNN5,result5,y5, scoring=\"accuracy\")\n",
    "print(\"accuracy of KNN 5 :\"+str(results5.mean()))\n",
    "#Linear SVM\n",
    "classifier5 = SVC(kernel='linear', random_state=0)\n",
    "classifier5.fit(xtrain5, ytrain5)\n",
    "ypred5=classifier5.predict(xtest5)\n",
    "results5 = model_selection.cross_val_score(classifier5, result5,y5, scoring=\"accuracy\")\n",
    "print(\"accuracy of linear SVM 5 :\"+str(results5.mean()))\n",
    "#SVM SIGMOID\n",
    "classifier5 = SVC(kernel='sigmoid', random_state=0)\n",
    "classifier5.fit(xtrain5, ytrain5)\n",
    "ypred5=classifier5.predict(xtest5)\n",
    "results5 = model_selection.cross_val_score(classifier5, result5,y5, scoring=\"accuracy\")\n",
    "print(\"accuracy of sigmoid SVM 5 :\"+str(results5.mean()))\n",
    "#Polynomial SVM\n",
    "classifier5 = SVC(kernel='poly', random_state=0)\n",
    "classifier5.fit(xtrain5, ytrain5)\n",
    "ypred5=classifier5.predict(xtest5)\n",
    "results5 = model_selection.cross_val_score(classifier5, result5,y5, scoring=\"accuracy\")\n",
    "print(\"accuracy of polynomial SVM 5 :\"+str(results5.mean()))\n",
    "#Naive Bayes\n",
    "modelNB5 = GaussianNB()\n",
    "modelNB5.fit(xtrain5, ytrain5)\n",
    "ypred5=modelNB5.predict(xtest5)\n",
    "results5 = model_selection.cross_val_score(modelNB5,result5,y5, scoring=\"accuracy\")\n",
    "print(\"accuracy of Naive Bayes 5 :\"+str(results5.mean()))\n",
    "#Random Forest\n",
    "rf_classifier5 = RandomForestClassifier(n_estimators=100, random_state=42)\n",
    "rf_classifier5.fit(xtrain5, ytrain5)\n",
    "ypred5 = rf_classifier5.predict(xtest5)\n",
    "results5 = model_selection.cross_val_score(rf_classifier5,result5,y5, scoring=\"accuracy\")\n",
    "print(\"accuracy of RandomForest 5 :\"+str(results5.mean()))\n",
    "#Decision Tree\n",
    "clf5 = DecisionTreeClassifier(criterion=\"entropy\", max_depth=2)\n",
    "clf5.fit(xtrain5,ytrain5)\n",
    "ypred5=clf5.predict(xtest5)\n",
    "results5 = model_selection.cross_val_score(clf5,result5,y5, scoring=\"accuracy\")\n",
    "print(\"accuracy of Decision Tree 5:\"+str(results5.mean()))\n"
   ]
  },
  {
   "cell_type": "markdown",
   "id": "e6c73d66",
   "metadata": {},
   "source": [
    "we can see that polynomial svm has the highest accuracy :"
   ]
  },
  {
   "cell_type": "code",
   "execution_count": 97,
   "id": "fc8d4707",
   "metadata": {},
   "outputs": [],
   "source": [
    "with open(\"models/model5.pkl\", 'wb') as file:\n",
    "    pickle.dump(classifier5, file) "
   ]
  },
  {
   "cell_type": "code",
   "execution_count": 98,
   "id": "d8bdc127",
   "metadata": {},
   "outputs": [
    {
     "name": "stderr",
     "output_type": "stream",
     "text": [
      "C:\\Users\\DELL\\anaconda3\\lib\\site-packages\\sklearn\\neighbors\\_classification.py:228: FutureWarning: Unlike other reduction functions (e.g. `skew`, `kurtosis`), the default behavior of `mode` typically preserves the axis it acts along. In SciPy 1.11.0, this behavior will change: the default value of `keepdims` will become False, the `axis` over which the statistic is taken will be eliminated, and the value None will no longer be accepted. Set `keepdims` to True or False to avoid this warning.\n",
      "  mode, _ = stats.mode(_y[neigh_ind, k], axis=1)\n",
      "C:\\Users\\DELL\\anaconda3\\lib\\site-packages\\sklearn\\neighbors\\_classification.py:228: FutureWarning: Unlike other reduction functions (e.g. `skew`, `kurtosis`), the default behavior of `mode` typically preserves the axis it acts along. In SciPy 1.11.0, this behavior will change: the default value of `keepdims` will become False, the `axis` over which the statistic is taken will be eliminated, and the value None will no longer be accepted. Set `keepdims` to True or False to avoid this warning.\n",
      "  mode, _ = stats.mode(_y[neigh_ind, k], axis=1)\n",
      "C:\\Users\\DELL\\anaconda3\\lib\\site-packages\\sklearn\\neighbors\\_classification.py:228: FutureWarning: Unlike other reduction functions (e.g. `skew`, `kurtosis`), the default behavior of `mode` typically preserves the axis it acts along. In SciPy 1.11.0, this behavior will change: the default value of `keepdims` will become False, the `axis` over which the statistic is taken will be eliminated, and the value None will no longer be accepted. Set `keepdims` to True or False to avoid this warning.\n",
      "  mode, _ = stats.mode(_y[neigh_ind, k], axis=1)\n",
      "C:\\Users\\DELL\\anaconda3\\lib\\site-packages\\sklearn\\neighbors\\_classification.py:228: FutureWarning: Unlike other reduction functions (e.g. `skew`, `kurtosis`), the default behavior of `mode` typically preserves the axis it acts along. In SciPy 1.11.0, this behavior will change: the default value of `keepdims` will become False, the `axis` over which the statistic is taken will be eliminated, and the value None will no longer be accepted. Set `keepdims` to True or False to avoid this warning.\n",
      "  mode, _ = stats.mode(_y[neigh_ind, k], axis=1)\n",
      "C:\\Users\\DELL\\anaconda3\\lib\\site-packages\\sklearn\\neighbors\\_classification.py:228: FutureWarning: Unlike other reduction functions (e.g. `skew`, `kurtosis`), the default behavior of `mode` typically preserves the axis it acts along. In SciPy 1.11.0, this behavior will change: the default value of `keepdims` will become False, the `axis` over which the statistic is taken will be eliminated, and the value None will no longer be accepted. Set `keepdims` to True or False to avoid this warning.\n",
      "  mode, _ = stats.mode(_y[neigh_ind, k], axis=1)\n",
      "C:\\Users\\DELL\\anaconda3\\lib\\site-packages\\sklearn\\neighbors\\_classification.py:228: FutureWarning: Unlike other reduction functions (e.g. `skew`, `kurtosis`), the default behavior of `mode` typically preserves the axis it acts along. In SciPy 1.11.0, this behavior will change: the default value of `keepdims` will become False, the `axis` over which the statistic is taken will be eliminated, and the value None will no longer be accepted. Set `keepdims` to True or False to avoid this warning.\n",
      "  mode, _ = stats.mode(_y[neigh_ind, k], axis=1)\n"
     ]
    },
    {
     "name": "stdout",
     "output_type": "stream",
     "text": [
      "accuracy of KNN 6 :0.4192118226600986\n",
      "accuracy of linear SVM 6 :0.4477832512315271\n",
      "accuracy of sigmoid SVM  :0.2857142857142857\n",
      "accuracy of polynomial SVM 6 :0.49655172413793097\n",
      "accuracy of Naive Bayes 6 :0.5448275862068965\n",
      "accuracy of RandomForest 6 :0.5236453201970444\n",
      "accuracy of Decision Tree 6:0.43275862068965515\n"
     ]
    }
   ],
   "source": [
    "\n",
    "#KNN \n",
    "modelKNN6=KNeighborsClassifier(n_neighbors=3)\n",
    "modelKNN6.fit(xtrain6, ytrain6)\n",
    "ypred6=modelKNN6.predict(xtest6)\n",
    "results6 = model_selection.cross_val_score(modelKNN6,result6,y6, scoring=\"accuracy\")\n",
    "print(\"accuracy of KNN 6 :\"+str(results6.mean()))\n",
    "#Linear SVM\n",
    "classifier6 = SVC(kernel='linear', random_state=0)\n",
    "classifier6.fit(xtrain6, ytrain6)\n",
    "ypred6=classifier6.predict(xtest6)\n",
    "results6 = model_selection.cross_val_score(classifier6, result6,y6, scoring=\"accuracy\")\n",
    "print(\"accuracy of linear SVM 6 :\"+str(results6.mean()))\n",
    "#SVM SIGMOID\n",
    "classifier6 = SVC(kernel='sigmoid', random_state=0)\n",
    "classifier6.fit(xtrain6, ytrain6)\n",
    "ypred6=classifier6.predict(xtest6)\n",
    "results6 = model_selection.cross_val_score(classifier6, result6,y6, scoring=\"accuracy\")\n",
    "print(\"accuracy of sigmoid SVM  :\"+str(results6.mean()))\n",
    "#Polynomial SVM\n",
    "classifier6 = SVC(kernel='poly', random_state=0)\n",
    "classifier6.fit(xtrain6, ytrain6)\n",
    "ypred6=classifier6.predict(xtest6)\n",
    "results6 = model_selection.cross_val_score(classifier6, result6,y6, scoring=\"accuracy\")\n",
    "print(\"accuracy of polynomial SVM 6 :\"+str(results6.mean()))\n",
    "#Naive Bayes\n",
    "modelNB6 = GaussianNB()\n",
    "modelNB6.fit(xtrain6, ytrain6)\n",
    "ypred6=modelNB6.predict(xtest6)\n",
    "results6 = model_selection.cross_val_score(modelNB6,result6,y6, scoring=\"accuracy\")\n",
    "print(\"accuracy of Naive Bayes 6 :\"+str(results6.mean()))\n",
    "#Random Forest\n",
    "rf_classifier6 = RandomForestClassifier(n_estimators=100, random_state=42)\n",
    "rf_classifier6.fit(xtrain6, ytrain6)\n",
    "ypred6 = rf_classifier6.predict(xtest6)\n",
    "results6 = model_selection.cross_val_score(rf_classifier6,result6,y6, scoring=\"accuracy\")\n",
    "print(\"accuracy of RandomForest 6 :\"+str(results6.mean()))\n",
    "#Decision Tree\n",
    "clf6 = DecisionTreeClassifier(criterion=\"entropy\", max_depth=2)\n",
    "clf6.fit(xtrain6,ytrain6)\n",
    "ypred6=clf6.predict(xtest6)\n",
    "results6 = model_selection.cross_val_score(clf6,result6,y6, scoring=\"accuracy\")\n",
    "print(\"accuracy of Decision Tree 6:\"+str(results6.mean()))\n",
    "\n"
   ]
  },
  {
   "cell_type": "markdown",
   "id": "b9298a4d",
   "metadata": {},
   "source": [
    "we can see that naive bayes's accuracy is the highest"
   ]
  },
  {
   "cell_type": "code",
   "execution_count": 99,
   "id": "75c715b3",
   "metadata": {},
   "outputs": [],
   "source": [
    "with open(\"models/model6.pkl\", 'wb') as file:\n",
    "    pickle.dump(modelNB6, file) "
   ]
  },
  {
   "cell_type": "markdown",
   "id": "618041b7",
   "metadata": {},
   "source": [
    "Question 7:"
   ]
  },
  {
   "cell_type": "code",
   "execution_count": 100,
   "id": "08d8b244",
   "metadata": {},
   "outputs": [
    {
     "name": "stderr",
     "output_type": "stream",
     "text": [
      "C:\\Users\\DELL\\anaconda3\\lib\\site-packages\\sklearn\\neighbors\\_classification.py:228: FutureWarning: Unlike other reduction functions (e.g. `skew`, `kurtosis`), the default behavior of `mode` typically preserves the axis it acts along. In SciPy 1.11.0, this behavior will change: the default value of `keepdims` will become False, the `axis` over which the statistic is taken will be eliminated, and the value None will no longer be accepted. Set `keepdims` to True or False to avoid this warning.\n",
      "  mode, _ = stats.mode(_y[neigh_ind, k], axis=1)\n",
      "C:\\Users\\DELL\\anaconda3\\lib\\site-packages\\sklearn\\neighbors\\_classification.py:228: FutureWarning: Unlike other reduction functions (e.g. `skew`, `kurtosis`), the default behavior of `mode` typically preserves the axis it acts along. In SciPy 1.11.0, this behavior will change: the default value of `keepdims` will become False, the `axis` over which the statistic is taken will be eliminated, and the value None will no longer be accepted. Set `keepdims` to True or False to avoid this warning.\n",
      "  mode, _ = stats.mode(_y[neigh_ind, k], axis=1)\n",
      "C:\\Users\\DELL\\anaconda3\\lib\\site-packages\\sklearn\\neighbors\\_classification.py:228: FutureWarning: Unlike other reduction functions (e.g. `skew`, `kurtosis`), the default behavior of `mode` typically preserves the axis it acts along. In SciPy 1.11.0, this behavior will change: the default value of `keepdims` will become False, the `axis` over which the statistic is taken will be eliminated, and the value None will no longer be accepted. Set `keepdims` to True or False to avoid this warning.\n",
      "  mode, _ = stats.mode(_y[neigh_ind, k], axis=1)\n",
      "C:\\Users\\DELL\\anaconda3\\lib\\site-packages\\sklearn\\neighbors\\_classification.py:228: FutureWarning: Unlike other reduction functions (e.g. `skew`, `kurtosis`), the default behavior of `mode` typically preserves the axis it acts along. In SciPy 1.11.0, this behavior will change: the default value of `keepdims` will become False, the `axis` over which the statistic is taken will be eliminated, and the value None will no longer be accepted. Set `keepdims` to True or False to avoid this warning.\n",
      "  mode, _ = stats.mode(_y[neigh_ind, k], axis=1)\n",
      "C:\\Users\\DELL\\anaconda3\\lib\\site-packages\\sklearn\\neighbors\\_classification.py:228: FutureWarning: Unlike other reduction functions (e.g. `skew`, `kurtosis`), the default behavior of `mode` typically preserves the axis it acts along. In SciPy 1.11.0, this behavior will change: the default value of `keepdims` will become False, the `axis` over which the statistic is taken will be eliminated, and the value None will no longer be accepted. Set `keepdims` to True or False to avoid this warning.\n",
      "  mode, _ = stats.mode(_y[neigh_ind, k], axis=1)\n",
      "C:\\Users\\DELL\\anaconda3\\lib\\site-packages\\sklearn\\neighbors\\_classification.py:228: FutureWarning: Unlike other reduction functions (e.g. `skew`, `kurtosis`), the default behavior of `mode` typically preserves the axis it acts along. In SciPy 1.11.0, this behavior will change: the default value of `keepdims` will become False, the `axis` over which the statistic is taken will be eliminated, and the value None will no longer be accepted. Set `keepdims` to True or False to avoid this warning.\n",
      "  mode, _ = stats.mode(_y[neigh_ind, k], axis=1)\n"
     ]
    },
    {
     "name": "stdout",
     "output_type": "stream",
     "text": [
      "accuracy of KNN 7 :0.6541666666666667\n",
      "accuracy of linear SVM 7 :0.3875\n",
      "accuracy of sigmoid SVM  :0.9583333333333333\n",
      "accuracy of polynomial SVM 7 :0.7875\n",
      "accuracy of Naive Bayes 7 :0.9416666666666667\n",
      "accuracy of RandomForest 7 :0.9958333333333333\n",
      "accuracy of Decision Tree 7:0.9791666666666666\n"
     ]
    }
   ],
   "source": [
    "\n",
    "#KNN \n",
    "modelKNN7=KNeighborsClassifier(n_neighbors=3)\n",
    "modelKNN7.fit(xtrain7, ytrain7)\n",
    "ypred7=modelKNN7.predict(xtest7)\n",
    "results7 = model_selection.cross_val_score(modelKNN7,result7,y7, scoring=\"accuracy\")\n",
    "print(\"accuracy of KNN 7 :\"+str(results7.mean()))\n",
    "#Linear SVM\n",
    "classifier7 = SVC(kernel='linear', random_state=0)\n",
    "classifier7.fit(xtrain7, ytrain7)\n",
    "ypred7=classifier7.predict(xtest7)\n",
    "results7 = model_selection.cross_val_score(classifier7, result7,y7, scoring=\"accuracy\")\n",
    "print(\"accuracy of linear SVM 7 :\"+str(results7.mean()))\n",
    "#SVM SIGMOID\n",
    "classifier7 = SVC(kernel='sigmoid', random_state=0)\n",
    "classifier7.fit(xtrain7, ytrain7)\n",
    "ypred7=classifier7.predict(xtest7)\n",
    "results7 = model_selection.cross_val_score(classifier7, result7,y7, scoring=\"accuracy\")\n",
    "print(\"accuracy of sigmoid SVM  :\"+str(results7.mean()))\n",
    "#Polynomial SVM\n",
    "classifier7 = SVC(kernel='poly', random_state=0)\n",
    "classifier7.fit(xtrain7, ytrain7)\n",
    "ypred7=classifier7.predict(xtest7)\n",
    "results7 = model_selection.cross_val_score(classifier7, result7,y7, scoring=\"accuracy\")\n",
    "print(\"accuracy of polynomial SVM 7 :\"+str(results7.mean()))\n",
    "#Naive Bayes\n",
    "modelNB7 = GaussianNB()\n",
    "modelNB7.fit(xtrain7, ytrain7)\n",
    "ypred7=modelNB7.predict(xtest7)\n",
    "results7 = model_selection.cross_val_score(modelNB7,result7,y7, scoring=\"accuracy\")\n",
    "print(\"accuracy of Naive Bayes 7 :\"+str(results7.mean()))\n",
    "#Random Forest\n",
    "rf_classifier7 = RandomForestClassifier(n_estimators=100, random_state=42)\n",
    "rf_classifier7.fit(xtrain7, ytrain7)\n",
    "ypred7 = rf_classifier7.predict(xtest7)\n",
    "results7 = model_selection.cross_val_score(rf_classifier7,result7,y7, scoring=\"accuracy\")\n",
    "print(\"accuracy of RandomForest 7 :\"+str(results7.mean()))\n",
    "#Decision Tree\n",
    "clf7 = DecisionTreeClassifier(criterion=\"entropy\", max_depth=2)\n",
    "clf7.fit(xtrain7,ytrain7)\n",
    "ypred7=clf7.predict(xtest7)\n",
    "results7 = model_selection.cross_val_score(clf7,result7,y7, scoring=\"accuracy\")\n",
    "print(\"accuracy of Decision Tree 7:\"+str(results7.mean()))\n",
    "\n"
   ]
  },
  {
   "cell_type": "markdown",
   "id": "fe03e4be",
   "metadata": {},
   "source": [
    "We chose naive bayes"
   ]
  },
  {
   "cell_type": "code",
   "execution_count": 101,
   "id": "984a5547",
   "metadata": {},
   "outputs": [],
   "source": [
    "with open(\"models/model7.pkl\", 'wb') as file:\n",
    "    pickle.dump(modelNB7, file) "
   ]
  },
  {
   "cell_type": "code",
   "execution_count": 102,
   "id": "07c09779",
   "metadata": {},
   "outputs": [],
   "source": [
    "newsentence=nltk.word_tokenize(\"بن عبد الحق\")\n",
    "newsentence\n",
    "\n",
    "# InputEmbedding=model.wv[newsentence]\n",
    "\n",
    "def transformSentence(jumla):\n",
    "    result=[]\n",
    "    e=[]\n",
    "    for line in jumla:\n",
    "        for element in line:\n",
    "            result.append(element)\n",
    "    return result\n",
    "\n",
    "# nn=completeLine(InputEmbedding,u)\n",
    "# p=transformSentence(InputEmbedding)\n",
    "# nn=completeLine(p,u)\n",
    "\n",
    "\n",
    "def prepare(sentence):\n",
    "    dic={}\n",
    "    o=[]\n",
    "    for i in range(0,len(sentence)):\n",
    "        dic[featureName[i]]=sentence[i]\n",
    "    d=pd.DataFrame(dic,index=featureName)\n",
    "    array=d.values[0:len(sentence)+1]\n",
    "    return dic.values()\n",
    "\n",
    "# len(nn)\n",
    "\n",
    "# rf_classifier.predict([nn])"
   ]
  },
  {
   "cell_type": "code",
   "execution_count": null,
   "id": "f0518aeb",
   "metadata": {},
   "outputs": [
    {
     "name": "stdout",
     "output_type": "stream",
     "text": [
      " * Serving Flask app \"__main__\" (lazy loading)\n",
      " * Environment: production\n",
      "\u001b[31m   WARNING: This is a development server. Do not use it in a production deployment.\u001b[0m\n",
      "\u001b[2m   Use a production WSGI server instead.\u001b[0m\n",
      " * Debug mode: off\n"
     ]
    },
    {
     "name": "stderr",
     "output_type": "stream",
     "text": [
      " * Running on http://127.0.0.1:5000/ (Press CTRL+C to quit)\n",
      "127.0.0.1 - - [20/May/2023 15:25:48] \"POST / HTTP/1.1\" 200 -\n"
     ]
    },
    {
     "name": "stdout",
     "output_type": "stream",
     "text": [
      "متى تولى الملك محمد الخامس الحكم؟\n",
      " تولى الملك الحكم سنة 1927 \n",
      "من هو مؤسس الدولة العلوية؟\n",
      "علي بن الحسن بن عبد الله  هو مؤسس الدولة العلوية\n"
     ]
    },
    {
     "name": "stderr",
     "output_type": "stream",
     "text": [
      "127.0.0.1 - - [20/May/2023 15:27:20] \"POST / HTTP/1.1\" 200 -\n"
     ]
    },
    {
     "name": "stdout",
     "output_type": "stream",
     "text": [
      "من هو مؤسس الدولة العلوية؟\n",
      "اعتبر علي بن الحسن بن عبد الله  هو مؤسس الدولة العلوية\n"
     ]
    },
    {
     "name": "stderr",
     "output_type": "stream",
     "text": [
      "127.0.0.1 - - [20/May/2023 15:28:13] \"POST / HTTP/1.1\" 200 -\n",
      "127.0.0.1 - - [20/May/2023 17:31:42] \"OPTIONS / HTTP/1.1\" 200 -\n"
     ]
    },
    {
     "name": "stdout",
     "output_type": "stream",
     "text": [
      "من هي اول سلالة حكمت المغرب ؟ومن هو مؤسسها ؟\n",
      "اول سلالة هي سلالة الادارسة\n"
     ]
    },
    {
     "name": "stderr",
     "output_type": "stream",
     "text": [
      "127.0.0.1 - - [20/May/2023 17:31:42] \"POST / HTTP/1.1\" 200 -\n",
      "127.0.0.1 - - [20/May/2023 17:32:28] \"OPTIONS / HTTP/1.1\" 200 -\n",
      "127.0.0.1 - - [20/May/2023 17:32:28] \"POST / HTTP/1.1\" 200 -\n"
     ]
    },
    {
     "name": "stdout",
     "output_type": "stream",
     "text": [
      "من هي اول سلالة حكمت المغرب ؟ومن هو مؤسسها ؟\n",
      "اول سلالة هي سلالة الادارسة ومؤسسها هو\n"
     ]
    },
    {
     "name": "stderr",
     "output_type": "stream",
     "text": [
      "127.0.0.1 - - [20/May/2023 17:32:44] \"OPTIONS / HTTP/1.1\" 200 -\n",
      "127.0.0.1 - - [20/May/2023 17:32:45] \"POST / HTTP/1.1\" 200 -\n"
     ]
    },
    {
     "name": "stdout",
     "output_type": "stream",
     "text": [
      "من هي اول سلالة حكمت المغرب ؟ومن هو مؤسسها ؟\n",
      "اول سلالة هي سلالة الادارسة ومؤسسها هو ادريس الاول\n"
     ]
    },
    {
     "name": "stderr",
     "output_type": "stream",
     "text": [
      "127.0.0.1 - - [20/May/2023 17:32:51] \"OPTIONS / HTTP/1.1\" 200 -\n",
      "127.0.0.1 - - [20/May/2023 17:32:51] \"POST / HTTP/1.1\" 200 -\n"
     ]
    },
    {
     "name": "stdout",
     "output_type": "stream",
     "text": [
      "من هي اول سلالة حكمت المغرب ؟ومن هو مؤسسها ؟\n",
      "اول سلالة هي سلالة الادارسة ومؤسسها هو ادريس الثاني\n"
     ]
    },
    {
     "name": "stderr",
     "output_type": "stream",
     "text": [
      "127.0.0.1 - - [20/May/2023 17:33:28] \"OPTIONS / HTTP/1.1\" 200 -\n",
      "[2023-05-20 17:33:28,753] ERROR in app: Exception on / [POST]\n",
      "Traceback (most recent call last):\n",
      "  File \"C:\\Users\\DELL\\anaconda3\\lib\\site-packages\\flask\\app.py\", line 2447, in wsgi_app\n",
      "    response = self.full_dispatch_request()\n",
      "  File \"C:\\Users\\DELL\\anaconda3\\lib\\site-packages\\flask\\app.py\", line 1952, in full_dispatch_request\n",
      "    rv = self.handle_user_exception(e)\n",
      "  File \"C:\\Users\\DELL\\anaconda3\\lib\\site-packages\\flask_cors\\extension.py\", line 165, in wrapped_function\n",
      "    return cors_after_request(app.make_response(f(*args, **kwargs)))\n",
      "  File \"C:\\Users\\DELL\\anaconda3\\lib\\site-packages\\flask\\app.py\", line 1821, in handle_user_exception\n",
      "    reraise(exc_type, exc_value, tb)\n",
      "  File \"C:\\Users\\DELL\\anaconda3\\lib\\site-packages\\flask\\_compat.py\", line 39, in reraise\n",
      "    raise value\n",
      "  File \"C:\\Users\\DELL\\anaconda3\\lib\\site-packages\\flask\\app.py\", line 1950, in full_dispatch_request\n",
      "    rv = self.dispatch_request()\n",
      "  File \"C:\\Users\\DELL\\anaconda3\\lib\\site-packages\\flask\\app.py\", line 1936, in dispatch_request\n",
      "    return self.view_functions[rule.endpoint](**req.view_args)\n",
      "  File \"C:\\Users\\DELL\\AppData\\Local\\Temp\\ipykernel_22436\\4161111902.py\", line 25, in hello\n",
      "    InputEmbedding=modell1.wv[latest1]\n",
      "  File \"C:\\Users\\DELL\\anaconda3\\lib\\site-packages\\gensim\\models\\keyedvectors.py\", line 397, in __getitem__\n",
      "    return vstack([self.get_vector(key) for key in key_or_keys])\n",
      "  File \"C:\\Users\\DELL\\anaconda3\\lib\\site-packages\\gensim\\models\\keyedvectors.py\", line 397, in <listcomp>\n",
      "    return vstack([self.get_vector(key) for key in key_or_keys])\n",
      "  File \"C:\\Users\\DELL\\anaconda3\\lib\\site-packages\\gensim\\models\\keyedvectors.py\", line 438, in get_vector\n",
      "    index = self.get_index(key)\n",
      "  File \"C:\\Users\\DELL\\anaconda3\\lib\\site-packages\\gensim\\models\\keyedvectors.py\", line 412, in get_index\n",
      "    raise KeyError(f\"Key '{key}' not present\")\n",
      "KeyError: \"Key 'رابع' not present\"\n",
      "127.0.0.1 - - [20/May/2023 17:33:28] \"POST / HTTP/1.1\" 500 -\n"
     ]
    },
    {
     "name": "stdout",
     "output_type": "stream",
     "text": [
      "من هي اول سلالة حكمت المغرب ؟ومن هو مؤسسها ؟\n",
      "اول سلالة هي سلالة الادارسة ومؤسسها هو ادريس الرابع\n"
     ]
    },
    {
     "name": "stderr",
     "output_type": "stream",
     "text": [
      "127.0.0.1 - - [20/May/2023 17:33:46] \"OPTIONS / HTTP/1.1\" 200 -\n",
      "Exception ignored in: <function WordFreqDictionary.__del__ at 0x000001E11D888790>\n",
      "Traceback (most recent call last):\n",
      "  File \"C:\\Users\\DELL\\anaconda3\\lib\\site-packages\\arramooz\\wordfreqdictionaryclass.py\", line 130, in __del__\n",
      "    self.db_connect.close()\n",
      "sqlite3.ProgrammingError: SQLite objects created in a thread can only be used in that same thread. The object was created in thread id 16740 and this is thread id 5896.\n",
      "Exception ignored in: <function ArabicDictionary.__del__ at 0x000001E11F250550>\n",
      "Traceback (most recent call last):\n",
      "  File \"C:\\Users\\DELL\\anaconda3\\lib\\site-packages\\arramooz\\arabicdictionary.py\", line 108, in __del__\n",
      "    self.db_connect.close()\n",
      "sqlite3.ProgrammingError: SQLite objects created in a thread can only be used in that same thread. The object was created in thread id 16740 and this is thread id 5896.\n",
      "Exception ignored in: <function ArabicDictionary.__del__ at 0x000001E11F250550>\n",
      "Traceback (most recent call last):\n",
      "  File \"C:\\Users\\DELL\\anaconda3\\lib\\site-packages\\arramooz\\arabicdictionary.py\", line 108, in __del__\n",
      "    self.db_connect.close()\n",
      "sqlite3.ProgrammingError: SQLite objects created in a thread can only be used in that same thread. The object was created in thread id 16740 and this is thread id 5896.\n",
      "Exception ignored in: <function WordFreqDictionary.__del__ at 0x000001E11D888790>\n",
      "Traceback (most recent call last):\n",
      "  File \"C:\\Users\\DELL\\anaconda3\\lib\\site-packages\\arramooz\\wordfreqdictionaryclass.py\", line 130, in __del__\n",
      "    self.db_connect.close()\n",
      "sqlite3.ProgrammingError: SQLite objects created in a thread can only be used in that same thread. The object was created in thread id 16740 and this is thread id 5896.\n",
      "Exception ignored in: <function StopWordsDictionary.__del__ at 0x000001E11F2ABD30>\n",
      "Traceback (most recent call last):\n",
      "  File \"C:\\Users\\DELL\\anaconda3\\lib\\site-packages\\arramooz\\stopwordsdictionaryclass.py\", line 98, in __del__\n",
      "    self.db_connect.close()\n",
      "sqlite3.ProgrammingError: SQLite objects created in a thread can only be used in that same thread. The object was created in thread id 16740 and this is thread id 5896.\n",
      "127.0.0.1 - - [20/May/2023 17:33:46] \"POST / HTTP/1.1\" 200 -\n"
     ]
    },
    {
     "name": "stdout",
     "output_type": "stream",
     "text": [
      "من هي اول سلالة حكمت المغرب ؟ومن هو مؤسسها ؟\n",
      "اول سلالة هي سلالة الادارسة ومؤسسها هو ادريس الاول\n"
     ]
    },
    {
     "name": "stderr",
     "output_type": "stream",
     "text": [
      "127.0.0.1 - - [20/May/2023 17:48:26] \"OPTIONS / HTTP/1.1\" 200 -\n",
      "127.0.0.1 - - [20/May/2023 17:48:26] \"POST / HTTP/1.1\" 200 -\n"
     ]
    },
    {
     "name": "stdout",
     "output_type": "stream",
     "text": [
      "من هي اول سلالة حكمت المغرب ؟ومن هو مؤسسها ؟\n",
      "اول سلالة هي سلالة الادارسة\n"
     ]
    },
    {
     "name": "stderr",
     "output_type": "stream",
     "text": [
      "127.0.0.1 - - [20/May/2023 19:44:21] \"OPTIONS / HTTP/1.1\" 200 -\n",
      "[2023-05-20 19:44:21,931] ERROR in app: Exception on / [POST]\n",
      "Traceback (most recent call last):\n",
      "  File \"C:\\Users\\DELL\\anaconda3\\lib\\site-packages\\flask\\app.py\", line 2447, in wsgi_app\n",
      "    response = self.full_dispatch_request()\n",
      "  File \"C:\\Users\\DELL\\anaconda3\\lib\\site-packages\\flask\\app.py\", line 1952, in full_dispatch_request\n",
      "    rv = self.handle_user_exception(e)\n",
      "  File \"C:\\Users\\DELL\\anaconda3\\lib\\site-packages\\flask_cors\\extension.py\", line 165, in wrapped_function\n",
      "    return cors_after_request(app.make_response(f(*args, **kwargs)))\n",
      "  File \"C:\\Users\\DELL\\anaconda3\\lib\\site-packages\\flask\\app.py\", line 1821, in handle_user_exception\n",
      "    reraise(exc_type, exc_value, tb)\n",
      "  File \"C:\\Users\\DELL\\anaconda3\\lib\\site-packages\\flask\\_compat.py\", line 39, in reraise\n",
      "    raise value\n",
      "  File \"C:\\Users\\DELL\\anaconda3\\lib\\site-packages\\flask\\app.py\", line 1950, in full_dispatch_request\n",
      "    rv = self.dispatch_request()\n",
      "  File \"C:\\Users\\DELL\\anaconda3\\lib\\site-packages\\flask\\app.py\", line 1936, in dispatch_request\n",
      "    return self.view_functions[rule.endpoint](**req.view_args)\n",
      "  File \"C:\\Users\\DELL\\AppData\\Local\\Temp\\ipykernel_22436\\4161111902.py\", line 25, in hello\n",
      "    InputEmbedding=modell1.wv[latest1]\n",
      "  File \"C:\\Users\\DELL\\anaconda3\\lib\\site-packages\\gensim\\models\\keyedvectors.py\", line 397, in __getitem__\n",
      "    return vstack([self.get_vector(key) for key in key_or_keys])\n",
      "  File \"<__array_function__ internals>\", line 5, in vstack\n",
      "  File \"C:\\Users\\DELL\\anaconda3\\lib\\site-packages\\numpy\\core\\shape_base.py\", line 282, in vstack\n",
      "    return _nx.concatenate(arrs, 0)\n",
      "  File \"<__array_function__ internals>\", line 5, in concatenate\n",
      "ValueError: need at least one array to concatenate\n"
     ]
    },
    {
     "name": "stdout",
     "output_type": "stream",
     "text": [
      "من هي اول سلالة حكمت المغرب ؟ومن هو مؤسسها ؟\n",
      "\n"
     ]
    },
    {
     "name": "stderr",
     "output_type": "stream",
     "text": [
      "127.0.0.1 - - [20/May/2023 19:44:21] \"POST / HTTP/1.1\" 500 -\n",
      "Exception ignored in: <function WordFreqDictionary.__del__ at 0x000001E11D888790>\n",
      "Traceback (most recent call last):\n",
      "  File \"C:\\Users\\DELL\\anaconda3\\lib\\site-packages\\arramooz\\wordfreqdictionaryclass.py\", line 130, in __del__\n",
      "    self.db_connect.close()\n",
      "sqlite3.ProgrammingError: SQLite objects created in a thread can only be used in that same thread. The object was created in thread id 11128 and this is thread id 6732.\n",
      "Exception ignored in: <function ArabicDictionary.__del__ at 0x000001E11F250550>\n",
      "Traceback (most recent call last):\n",
      "  File \"C:\\Users\\DELL\\anaconda3\\lib\\site-packages\\arramooz\\arabicdictionary.py\", line 108, in __del__\n",
      "    self.db_connect.close()\n",
      "sqlite3.ProgrammingError: SQLite objects created in a thread can only be used in that same thread. The object was created in thread id 11128 and this is thread id 6732.\n",
      "Exception ignored in: <function ArabicDictionary.__del__ at 0x000001E11F250550>\n",
      "Traceback (most recent call last):\n",
      "  File \"C:\\Users\\DELL\\anaconda3\\lib\\site-packages\\arramooz\\arabicdictionary.py\", line 108, in __del__\n",
      "    self.db_connect.close()\n",
      "sqlite3.ProgrammingError: SQLite objects created in a thread can only be used in that same thread. The object was created in thread id 11128 and this is thread id 6732.\n",
      "Exception ignored in: <function WordFreqDictionary.__del__ at 0x000001E11D888790>\n",
      "Traceback (most recent call last):\n",
      "  File \"C:\\Users\\DELL\\anaconda3\\lib\\site-packages\\arramooz\\wordfreqdictionaryclass.py\", line 130, in __del__\n",
      "    self.db_connect.close()\n",
      "sqlite3.ProgrammingError: SQLite objects created in a thread can only be used in that same thread. The object was created in thread id 11128 and this is thread id 6732.\n",
      "Exception ignored in: <function StopWordsDictionary.__del__ at 0x000001E11F2ABD30>\n",
      "Traceback (most recent call last):\n",
      "  File \"C:\\Users\\DELL\\anaconda3\\lib\\site-packages\\arramooz\\stopwordsdictionaryclass.py\", line 98, in __del__\n",
      "    self.db_connect.close()\n",
      "sqlite3.ProgrammingError: SQLite objects created in a thread can only be used in that same thread. The object was created in thread id 11128 and this is thread id 6732.\n",
      "[2023-05-20 19:44:22,362] ERROR in app: Exception on / [POST]\n",
      "Traceback (most recent call last):\n",
      "  File \"C:\\Users\\DELL\\anaconda3\\lib\\site-packages\\flask\\app.py\", line 2447, in wsgi_app\n",
      "    response = self.full_dispatch_request()\n",
      "  File \"C:\\Users\\DELL\\anaconda3\\lib\\site-packages\\flask\\app.py\", line 1952, in full_dispatch_request\n",
      "    rv = self.handle_user_exception(e)\n",
      "  File \"C:\\Users\\DELL\\anaconda3\\lib\\site-packages\\flask_cors\\extension.py\", line 165, in wrapped_function\n",
      "    return cors_after_request(app.make_response(f(*args, **kwargs)))\n",
      "  File \"C:\\Users\\DELL\\anaconda3\\lib\\site-packages\\flask\\app.py\", line 1821, in handle_user_exception\n",
      "    reraise(exc_type, exc_value, tb)\n",
      "  File \"C:\\Users\\DELL\\anaconda3\\lib\\site-packages\\flask\\_compat.py\", line 39, in reraise\n",
      "    raise value\n",
      "  File \"C:\\Users\\DELL\\anaconda3\\lib\\site-packages\\flask\\app.py\", line 1950, in full_dispatch_request\n",
      "    rv = self.dispatch_request()\n",
      "  File \"C:\\Users\\DELL\\anaconda3\\lib\\site-packages\\flask\\app.py\", line 1936, in dispatch_request\n",
      "    return self.view_functions[rule.endpoint](**req.view_args)\n",
      "  File \"C:\\Users\\DELL\\AppData\\Local\\Temp\\ipykernel_22436\\4161111902.py\", line 25, in hello\n",
      "    InputEmbedding=modell1.wv[latest1]\n",
      "  File \"C:\\Users\\DELL\\anaconda3\\lib\\site-packages\\gensim\\models\\keyedvectors.py\", line 397, in __getitem__\n",
      "    return vstack([self.get_vector(key) for key in key_or_keys])\n",
      "  File \"<__array_function__ internals>\", line 5, in vstack\n",
      "  File \"C:\\Users\\DELL\\anaconda3\\lib\\site-packages\\numpy\\core\\shape_base.py\", line 282, in vstack\n",
      "    return _nx.concatenate(arrs, 0)\n",
      "  File \"<__array_function__ internals>\", line 5, in concatenate\n",
      "ValueError: need at least one array to concatenate\n",
      "127.0.0.1 - - [20/May/2023 19:44:22] \"POST / HTTP/1.1\" 500 -\n"
     ]
    },
    {
     "name": "stdout",
     "output_type": "stream",
     "text": [
      "من هي اول سلالة حكمت المغرب ؟ومن هو مؤسسها ؟\n",
      "\n"
     ]
    },
    {
     "name": "stderr",
     "output_type": "stream",
     "text": [
      "127.0.0.1 - - [21/May/2023 13:14:42] \"OPTIONS / HTTP/1.1\" 200 -\n",
      "Exception ignored in: <function WordFreqDictionary.__del__ at 0x000001E11D888790>\n",
      "Traceback (most recent call last):\n",
      "  File \"C:\\Users\\DELL\\anaconda3\\lib\\site-packages\\arramooz\\wordfreqdictionaryclass.py\", line 130, in __del__\n",
      "    self.db_connect.close()\n",
      "sqlite3.ProgrammingError: SQLite objects created in a thread can only be used in that same thread. The object was created in thread id 6732 and this is thread id 9212.\n",
      "Exception ignored in: <function ArabicDictionary.__del__ at 0x000001E11F250550>\n",
      "Traceback (most recent call last):\n",
      "  File \"C:\\Users\\DELL\\anaconda3\\lib\\site-packages\\arramooz\\arabicdictionary.py\", line 108, in __del__\n",
      "    self.db_connect.close()\n",
      "sqlite3.ProgrammingError: SQLite objects created in a thread can only be used in that same thread. The object was created in thread id 6732 and this is thread id 9212.\n",
      "Exception ignored in: <function ArabicDictionary.__del__ at 0x000001E11F250550>\n",
      "Traceback (most recent call last):\n",
      "  File \"C:\\Users\\DELL\\anaconda3\\lib\\site-packages\\arramooz\\arabicdictionary.py\", line 108, in __del__\n",
      "    self.db_connect.close()\n",
      "sqlite3.ProgrammingError: SQLite objects created in a thread can only be used in that same thread. The object was created in thread id 6732 and this is thread id 9212.\n",
      "Exception ignored in: <function WordFreqDictionary.__del__ at 0x000001E11D888790>\n",
      "Traceback (most recent call last):\n",
      "  File \"C:\\Users\\DELL\\anaconda3\\lib\\site-packages\\arramooz\\wordfreqdictionaryclass.py\", line 130, in __del__\n",
      "    self.db_connect.close()\n",
      "sqlite3.ProgrammingError: SQLite objects created in a thread can only be used in that same thread. The object was created in thread id 6732 and this is thread id 9212.\n",
      "Exception ignored in: <function StopWordsDictionary.__del__ at 0x000001E11F2ABD30>\n",
      "Traceback (most recent call last):\n",
      "  File \"C:\\Users\\DELL\\anaconda3\\lib\\site-packages\\arramooz\\stopwordsdictionaryclass.py\", line 98, in __del__\n",
      "    self.db_connect.close()\n",
      "sqlite3.ProgrammingError: SQLite objects created in a thread can only be used in that same thread. The object was created in thread id 6732 and this is thread id 9212.\n"
     ]
    },
    {
     "name": "stdout",
     "output_type": "stream",
     "text": [
      "من هي اول سلالة حكمت المغرب ؟ومن هو مؤسسها ؟\n",
      "اول سلالة هي سلالة الادارسة \n"
     ]
    },
    {
     "name": "stderr",
     "output_type": "stream",
     "text": [
      "127.0.0.1 - - [21/May/2023 13:14:42] \"POST / HTTP/1.1\" 200 -\n",
      "127.0.0.1 - - [21/May/2023 13:14:44] \"POST / HTTP/1.1\" 200 -\n"
     ]
    },
    {
     "name": "stdout",
     "output_type": "stream",
     "text": [
      "من هي اول سلالة حكمت المغرب ؟ومن هو مؤسسها ؟\n",
      "اول سلالة هي سلالة الادارسة \n"
     ]
    },
    {
     "name": "stderr",
     "output_type": "stream",
     "text": [
      "127.0.0.1 - - [21/May/2023 13:14:44] \"POST / HTTP/1.1\" 200 -\n"
     ]
    },
    {
     "name": "stdout",
     "output_type": "stream",
     "text": [
      "من هي اول سلالة حكمت المغرب ؟ومن هو مؤسسها ؟\n",
      "اول سلالة هي سلالة الادارسة \n"
     ]
    },
    {
     "name": "stderr",
     "output_type": "stream",
     "text": [
      "127.0.0.1 - - [21/May/2023 13:14:44] \"POST / HTTP/1.1\" 200 -\n"
     ]
    },
    {
     "name": "stdout",
     "output_type": "stream",
     "text": [
      "من هي اول سلالة حكمت المغرب ؟ومن هو مؤسسها ؟\n",
      "اول سلالة هي سلالة الادارسة \n"
     ]
    },
    {
     "name": "stderr",
     "output_type": "stream",
     "text": [
      "127.0.0.1 - - [21/May/2023 13:15:22] \"OPTIONS / HTTP/1.1\" 200 -\n"
     ]
    },
    {
     "name": "stdout",
     "output_type": "stream",
     "text": [
      "من هو مؤسس الدولة العلوية؟\n",
      "مؤسس الدولة العلوية هو  السلطان مولاي يوسف\n"
     ]
    },
    {
     "name": "stderr",
     "output_type": "stream",
     "text": [
      "127.0.0.1 - - [21/May/2023 13:15:23] \"POST / HTTP/1.1\" 200 -\n",
      "127.0.0.1 - - [21/May/2023 14:32:03] \"OPTIONS / HTTP/1.1\" 200 -\n",
      "127.0.0.1 - - [21/May/2023 14:32:03] \"POST / HTTP/1.1\" 200 -\n"
     ]
    },
    {
     "name": "stdout",
     "output_type": "stream",
     "text": [
      "من السلالات التي حكمت المغرب؟\n",
      "السعديين\n"
     ]
    },
    {
     "name": "stderr",
     "output_type": "stream",
     "text": [
      "127.0.0.1 - - [21/May/2023 16:04:50] \"OPTIONS / HTTP/1.1\" 200 -\n"
     ]
    },
    {
     "name": "stdout",
     "output_type": "stream",
     "text": [
      "من هي اول سلالة حكمت المغرب ؟ومن هو مؤسسها ؟\n",
      "السلالة الأولى التي حكمت المغرب هي سلالة الادارسة و مؤسسها هو ادريس الأول\n"
     ]
    },
    {
     "name": "stderr",
     "output_type": "stream",
     "text": [
      "127.0.0.1 - - [21/May/2023 16:04:51] \"POST / HTTP/1.1\" 200 -\n",
      "127.0.0.1 - - [21/May/2023 16:04:58] \"OPTIONS / HTTP/1.1\" 200 -\n",
      "127.0.0.1 - - [21/May/2023 16:04:58] \"POST / HTTP/1.1\" 200 -\n"
     ]
    },
    {
     "name": "stdout",
     "output_type": "stream",
     "text": [
      "من هي اول سلالة حكمت المغرب ؟ومن هو مؤسسها ؟\n",
      "السلالة الأولى التي حكمت المغرب هي سلالة الادارسة و مؤسسها هو ادريس الأول\n"
     ]
    },
    {
     "name": "stderr",
     "output_type": "stream",
     "text": [
      "127.0.0.1 - - [21/May/2023 16:07:07] \"OPTIONS / HTTP/1.1\" 200 -\n",
      "127.0.0.1 - - [21/May/2023 16:07:07] \"POST / HTTP/1.1\" 200 -\n"
     ]
    },
    {
     "name": "stdout",
     "output_type": "stream",
     "text": [
      "من هي اول سلالة حكمت المغرب ؟ومن هو مؤسسها ؟\n",
      "السلالة الأولى التي حكمت المغرب هي سلالة الادارسة و مؤسسها هو ادريس الأول\n"
     ]
    },
    {
     "name": "stderr",
     "output_type": "stream",
     "text": [
      "127.0.0.1 - - [21/May/2023 16:07:39] \"OPTIONS / HTTP/1.1\" 200 -\n",
      "127.0.0.1 - - [21/May/2023 16:07:39] \"POST / HTTP/1.1\" 200 -\n"
     ]
    },
    {
     "name": "stdout",
     "output_type": "stream",
     "text": [
      "من هي اول سلالة حكمت المغرب ؟ومن هو مؤسسها ؟\n",
      "السلالة المرينية \n"
     ]
    },
    {
     "name": "stderr",
     "output_type": "stream",
     "text": [
      "127.0.0.1 - - [21/May/2023 16:08:49] \"OPTIONS / HTTP/1.1\" 200 -\n",
      "127.0.0.1 - - [21/May/2023 16:08:50] \"POST / HTTP/1.1\" 200 -\n"
     ]
    },
    {
     "name": "stdout",
     "output_type": "stream",
     "text": [
      "من هي اول سلالة حكمت المغرب ؟ومن هو مؤسسها ؟\n",
      " السلالة الأولى التي حكمت المغرب هي السلالة العلوية مؤسسها ادريس الاول\n"
     ]
    },
    {
     "name": "stderr",
     "output_type": "stream",
     "text": [
      "127.0.0.1 - - [21/May/2023 16:09:05] \"OPTIONS / HTTP/1.1\" 200 -\n",
      "127.0.0.1 - - [21/May/2023 16:09:05] \"POST / HTTP/1.1\" 200 -\n"
     ]
    },
    {
     "name": "stdout",
     "output_type": "stream",
     "text": [
      "من هي اول سلالة حكمت المغرب ؟ومن هو مؤسسها ؟\n",
      "  سلالة الادارسة هي اول سلالة حكمت المغرب  أسسها ادريس الأول \n"
     ]
    }
   ],
   "source": [
    "from flask import Flask, request\n",
    "from flask_cors import CORS\n",
    "\n",
    "# Create an instance of the Flask app\n",
    "app = Flask(__name__)\n",
    "CORS(app)\n",
    "# Define a route and its corresponding handler function\n",
    "@app.route('/', methods=['POST'])\n",
    "def hello():\n",
    "    data = request.get_json()\n",
    "    question=data[\"question\"]\n",
    "    answer=data[\"answer\"]\n",
    "    print(question)\n",
    "    print(answer)\n",
    "    \n",
    "    lemmer = qalsadi.lemmatizer.Lemmatizer()\n",
    "    if(question==\"من هي اول سلالة حكمت المغرب ؟ومن هو مؤسسها ؟\"):\n",
    "        with open(\"models/model1.pkl\", 'rb') as file:\n",
    "            model1 = pickle.load(file)\n",
    "        newsentence=nltk.word_tokenize(answer)\n",
    "        latest1=[]\n",
    "        for word in newsentence:\n",
    "            latest1.append(lemmer.lemmatize(word))\n",
    "        modell1=Word2Vec.load(\"model1.h5\")\n",
    "        InputEmbedding=modell1.wv[latest1]\n",
    "        p=transformSentence(InputEmbedding)\n",
    "        nn=completeLine(p,u1)\n",
    "        return model1.predict([nn])[0]\n",
    "    if(question==\"من هو مؤسس الدولة العلوية؟\"):\n",
    "        with open(\"models/model2.pkl\", 'rb') as file:\n",
    "            model2 = pickle.load(file)\n",
    "        newsentence=nltk.word_tokenize(answer)\n",
    "        latest1=[]\n",
    "        for word in newsentence:\n",
    "            latest1.append(lemmer.lemmatize(word))\n",
    "        modell2=Word2Vec.load(\"model2.h5\")\n",
    "        InputEmbedding=modell2.wv[latest1]\n",
    "        p=transformSentence(InputEmbedding)\n",
    "        nn=completeLine(p,u2)\n",
    "        return model2.predict([nn])[0]\n",
    "    if(question==\"ما هي مدة حكم الدولة المرينية ؟\"):\n",
    "        with open(\"models/model3.pkl\", 'rb') as file:\n",
    "            model3 = pickle.load(file)\n",
    "        newsentence=nltk.word_tokenize(answer)\n",
    "        latest1=[]\n",
    "        for word in newsentence:\n",
    "            latest1.append(lemmer.lemmatize(word))\n",
    "        modell3=Word2Vec.load(\"model3.h5\")\n",
    "        InputEmbedding=modell3.wv[latest1]\n",
    "        p=transformSentence(InputEmbedding)\n",
    "        nn=completeLine(p,u3)\n",
    "        return model3.predict([nn])[0]\n",
    "    if(question==\"من هو مؤسس السلالة المرينية؟\"):\n",
    "        with open(\"models/model4.pkl\", 'rb') as file:\n",
    "            model4 = pickle.load(file)\n",
    "        newsentence=nltk.word_tokenize(answer)\n",
    "        latest1=[]\n",
    "        for word in newsentence:\n",
    "            latest1.append(lemmer.lemmatize(word))\n",
    "        modell4=Word2Vec.load(\"model4.h5\")\n",
    "        InputEmbedding=modell4.wv[latest1]\n",
    "        p=transformSentence(InputEmbedding)\n",
    "        nn=completeLine(p,u4)\n",
    "        return model4.predict([nn])[0]\n",
    "    if(question==\"متى وماهي مدة نفي محمد الخامس؟\"):\n",
    "        with open(\"models/model5.pkl\", 'rb') as file:\n",
    "            model5 = pickle.load(file)\n",
    "        newsentence=nltk.word_tokenize(answer)\n",
    "        latest1=[]\n",
    "        for word in newsentence:\n",
    "            latest1.append(lemmer.lemmatize(word))\n",
    "        modell5=Word2Vec.load(\"model5.h5\")\n",
    "        InputEmbedding=modell5.wv[latest1]\n",
    "        p=transformSentence(InputEmbedding)\n",
    "        nn=completeLine(p,u5)\n",
    "        return model5.predict([nn])[0]\n",
    "    if(question==\"متى تولى الملك محمد الخامس الحكم؟\"):\n",
    "        with open(\"models/model6.pkl\", 'rb') as file:\n",
    "            model6 = pickle.load(file)\n",
    "        newsentence=nltk.word_tokenize(answer)\n",
    "        latest1=[]\n",
    "        for word in newsentence:\n",
    "            latest1.append(lemmer.lemmatize(word))\n",
    "        modell6=Word2Vec.load(\"model6.h5\")\n",
    "        InputEmbedding=modell6.wv[latest1]\n",
    "        p=transformSentence(InputEmbedding)\n",
    "        nn=completeLine(p,u6)\n",
    "        return model6.predict([nn])[0]\n",
    "    if(question==\"من السلالات التي حكمت المغرب؟\"):\n",
    "        with open(\"models/model7.pkl\", 'rb') as file:\n",
    "            model7 = pickle.load(file)\n",
    "        newsentence=nltk.word_tokenize(answer)\n",
    "        latest1=[]\n",
    "        for word in newsentence:\n",
    "            latest1.append(lemmer.lemmatize(word))\n",
    "        modell7=Word2Vec.load(\"model7.h5\")\n",
    "        InputEmbedding=modell7.wv[latest1]\n",
    "        p=transformSentence(InputEmbedding)\n",
    "        nn=completeLine(p,u7)\n",
    "        return model7.predict([nn])[0]\n",
    "    \n",
    "\n",
    "    \n",
    "\n",
    "# Run the Flask application\n",
    "if __name__ == '__main__':\n",
    "    app.run()"
   ]
  },
  {
   "cell_type": "code",
   "execution_count": null,
   "id": "bf88a43d",
   "metadata": {},
   "outputs": [],
   "source": []
  },
  {
   "cell_type": "code",
   "execution_count": null,
   "id": "d23c1028",
   "metadata": {},
   "outputs": [],
   "source": []
  },
  {
   "cell_type": "code",
   "execution_count": null,
   "id": "c05b8ef5",
   "metadata": {},
   "outputs": [],
   "source": []
  },
  {
   "cell_type": "code",
   "execution_count": null,
   "id": "7ff8142a",
   "metadata": {},
   "outputs": [],
   "source": []
  },
  {
   "cell_type": "code",
   "execution_count": null,
   "id": "7ff3af07",
   "metadata": {},
   "outputs": [],
   "source": []
  },
  {
   "cell_type": "code",
   "execution_count": null,
   "id": "1edb2ea1",
   "metadata": {},
   "outputs": [],
   "source": []
  },
  {
   "cell_type": "code",
   "execution_count": null,
   "id": "1def6e08",
   "metadata": {},
   "outputs": [],
   "source": []
  },
  {
   "cell_type": "code",
   "execution_count": null,
   "id": "19778151",
   "metadata": {},
   "outputs": [],
   "source": []
  },
  {
   "cell_type": "code",
   "execution_count": null,
   "id": "23d4eea4",
   "metadata": {},
   "outputs": [],
   "source": []
  },
  {
   "cell_type": "code",
   "execution_count": null,
   "id": "2ed4d526",
   "metadata": {},
   "outputs": [],
   "source": []
  },
  {
   "cell_type": "code",
   "execution_count": null,
   "id": "e36c9b4d",
   "metadata": {},
   "outputs": [],
   "source": []
  },
  {
   "cell_type": "code",
   "execution_count": null,
   "id": "ee2d1b2c",
   "metadata": {},
   "outputs": [],
   "source": []
  },
  {
   "cell_type": "code",
   "execution_count": null,
   "id": "cf4b9db9",
   "metadata": {},
   "outputs": [],
   "source": []
  },
  {
   "cell_type": "code",
   "execution_count": null,
   "id": "495da368",
   "metadata": {},
   "outputs": [],
   "source": []
  },
  {
   "cell_type": "code",
   "execution_count": null,
   "id": "a45ae4b9",
   "metadata": {},
   "outputs": [],
   "source": []
  },
  {
   "cell_type": "code",
   "execution_count": null,
   "id": "4afdacb8",
   "metadata": {},
   "outputs": [],
   "source": []
  },
  {
   "cell_type": "code",
   "execution_count": null,
   "id": "c2226166",
   "metadata": {},
   "outputs": [],
   "source": []
  },
  {
   "cell_type": "code",
   "execution_count": null,
   "id": "0ea4485c",
   "metadata": {},
   "outputs": [],
   "source": []
  },
  {
   "cell_type": "code",
   "execution_count": null,
   "id": "dd039166",
   "metadata": {},
   "outputs": [],
   "source": []
  },
  {
   "cell_type": "code",
   "execution_count": null,
   "id": "0609d599",
   "metadata": {},
   "outputs": [],
   "source": []
  },
  {
   "cell_type": "code",
   "execution_count": null,
   "id": "3e2c372f",
   "metadata": {},
   "outputs": [],
   "source": []
  },
  {
   "cell_type": "code",
   "execution_count": null,
   "id": "5287efbc",
   "metadata": {},
   "outputs": [],
   "source": []
  },
  {
   "cell_type": "code",
   "execution_count": null,
   "id": "894da06d",
   "metadata": {},
   "outputs": [],
   "source": []
  },
  {
   "cell_type": "code",
   "execution_count": null,
   "id": "1e5ef92a",
   "metadata": {},
   "outputs": [],
   "source": []
  },
  {
   "cell_type": "code",
   "execution_count": null,
   "id": "a5714f5a",
   "metadata": {},
   "outputs": [],
   "source": []
  },
  {
   "cell_type": "code",
   "execution_count": null,
   "id": "8f1d2c07",
   "metadata": {},
   "outputs": [],
   "source": []
  },
  {
   "cell_type": "code",
   "execution_count": null,
   "id": "7213c75c",
   "metadata": {},
   "outputs": [],
   "source": []
  },
  {
   "cell_type": "code",
   "execution_count": null,
   "id": "ad8bce86",
   "metadata": {},
   "outputs": [],
   "source": []
  },
  {
   "cell_type": "code",
   "execution_count": null,
   "id": "e3b5d534",
   "metadata": {},
   "outputs": [],
   "source": []
  },
  {
   "cell_type": "code",
   "execution_count": null,
   "id": "ba58e994",
   "metadata": {},
   "outputs": [],
   "source": []
  },
  {
   "cell_type": "code",
   "execution_count": null,
   "id": "7cf940d6",
   "metadata": {},
   "outputs": [],
   "source": []
  }
 ],
 "metadata": {
  "kernelspec": {
   "display_name": "Python 3 (ipykernel)",
   "language": "python",
   "name": "python3"
  },
  "language_info": {
   "codemirror_mode": {
    "name": "ipython",
    "version": 3
   },
   "file_extension": ".py",
   "mimetype": "text/x-python",
   "name": "python",
   "nbconvert_exporter": "python",
   "pygments_lexer": "ipython3",
   "version": "3.9.13"
  }
 },
 "nbformat": 4,
 "nbformat_minor": 5
}
